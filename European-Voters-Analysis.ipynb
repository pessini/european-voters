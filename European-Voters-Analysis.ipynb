{
 "cells": [
  {
   "cell_type": "markdown",
   "id": "automotive-league",
   "metadata": {},
   "source": [
    "# Examining socio-demographic factors that influence in European voters"
   ]
  },
  {
   "cell_type": "markdown",
   "id": "understood-cannon",
   "metadata": {},
   "source": [
    "## Leave or remain in the European Union? "
   ]
  },
  {
   "cell_type": "markdown",
   "id": "prerequisite-wrong",
   "metadata": {},
   "source": [
    "<img src='https://www.irishtimes.com/polopoly_fs/1.3657023.1539082433!/image/image.jpg' style='height:400px'/>"
   ]
  },
  {
   "cell_type": "markdown",
   "id": "democratic-bennett",
   "metadata": {},
   "source": [
    "Photo: The Irish Times — [BREXIT: THE FACTS](https://www.irishtimes.com/news/world/brexit/brexit-the-facts)"
   ]
  },
  {
   "cell_type": "markdown",
   "id": "considerable-battle",
   "metadata": {},
   "source": [
    "<div class=\"list-group\" id=\"list-tab\" role=\"tablist\">\n",
    "  <h1 class=\"list-group-item list-group-item-action active\" data-toggle=\"list\"  role=\"tab\" aria-controls=\"home\">&nbsp;Table of Contents:</h1>\n",
    "  <a class=\"list-group-item list-group-item-action\" data-toggle=\"list\" href=\"#1\" role=\"tab\" aria-controls=\"profile\">1. Introduction<span class=\"badge badge-primary badge-pill\">1</span></a>\n",
    "  <a class=\"list-group-item list-group-item-action\" data-toggle=\"list\" href=\"#2\" role=\"tab\" aria-controls=\"messages\">2. Data Cleaning & Wrangling<span class=\"badge badge-primary badge-pill\">2</span></a>\n",
    "   <a class=\"list-group-item list-group-item-action\" data-toggle=\"list\" href=\"#3\" role=\"tab\" aria-controls=\"messages\">3. Survey Weights<span class=\"badge badge-primary badge-pill\">3</span></a>\n",
    "   <a class=\"list-group-item list-group-item-action\" data-toggle=\"list\" href=\"#4\" role=\"tab\" aria-controls=\"messages\">4. Data Exploration<span class=\"badge badge-primary badge-pill\">4</span></a>    <a class=\"list-group-item list-group-item-action\" data-toggle=\"list\" href=\"#5\" role=\"tab\" aria-controls=\"messages\">5. Previous Iterations<span class=\"badge badge-primary badge-pill\">5</span></a>\n",
    "</div>"
   ]
  },
  {
   "cell_type": "markdown",
   "id": "announced-robertson",
   "metadata": {},
   "source": [
    "<a id=\"1\"></a> <br>\n",
    "<font size=\"+3\" color=\"black\"><b>1 - Introduction</b></font><br><a id=\"1\"></a>\n",
    "<br> "
   ]
  },
  {
   "cell_type": "markdown",
   "id": "banned-solid",
   "metadata": {},
   "source": [
    "This report will investigated a dataset provided by [European Social Survey](https://www.europeansocialsurvey.org/) (ESS) which is a biennial cross-national survey of attitudes and behaviour from European citizens.\n",
    "\n",
    "The study will focus on which aspects can influence for a person to vote for your country leave or remain a member of the European Union. After analyzing each variable individually I will build a model that after been trained can predict the probability on a person to vote for your country to Leave the European Union.\n",
    "\n"
   ]
  },
  {
   "cell_type": "markdown",
   "id": "considerable-perry",
   "metadata": {},
   "source": [
    "## Data Dictionary\n",
    "\n",
    "- __CNTRY__ Country\n",
    "- __EDUYRS__ Years of full-time education completed\n",
    "- __EISCED__ Highest level of education, ES - ISCED\n",
    "- __NETUSOFT__ Internet use, how often\n",
    "- __UEMP3M__ Ever unemployed and seeking work for a period more than three months\n",
    "- __MBTRU__ Member of trade union or similar organisation\n",
    "- __VTEURMMB__ Would vote for your country to remain member of European Union or leave\n",
    "- __GNDR__ Gender\n",
    "- __YRBRN__  Year of birth\n",
    "- __AGEA__ Age of respondent. Calculation based on year of birth and year of interview"
   ]
  },
  {
   "cell_type": "markdown",
   "id": "proprietary-dakota",
   "metadata": {},
   "source": [
    "__Questions__"
   ]
  },
  {
   "cell_type": "markdown",
   "id": "lonely-karen",
   "metadata": {},
   "source": [
    "**EDUYR** About how many years of education have you completed, whether full-time or part-time? Please report these in full-time equivalents and include compulsory years of schooling.\n",
    "<br>**EISCED** Generated variable: Highest level of education, ES - ISCED 9 (What is the highest level of education you have successfully completed?)\n",
    "<br>**NETUSOFT** People can use the internet on different devices such as computers, tablets and smartphones. How often do you use the internet on these or any other devices, whether for work or personal use?\n",
    "<br>**UEMP3M** Have you ever been unemployed and seeking work for a period of more than three months?\n",
    "<br>**MBTRU** Are you or have you ever been a member of a trade union or similar organisation? IF YES, is that currently or previously?\n",
    "<br>**VTEURMMB** Imagine there were a referendum in [country] tomorrow about membership of the European Union. Would you vote for [country] to remain a member of the European Union or to leave the European Union?\n",
    "<br>**YRBRN** And in what year were you born?"
   ]
  },
  {
   "cell_type": "markdown",
   "id": "insured-festival",
   "metadata": {},
   "source": [
    "### International Standard Classification of Education (ISCED)\n",
    "\n",
    "ISCED is the reference international classification for organising education programmes and related qualifications by levels and fields. ISCED 2011 (levels of education) has been implemented in all EU data collections\n",
    "since 2014.\n",
    "\n",
    "__Levels__\n",
    "\n",
    "- ISCED 0: Early childhood education (‘less than primary’ for educational attainment)\n",
    "- ISCED 1: Primary education\n",
    "- ISCED 2: Lower secondary education\n",
    "- ISCED 3: Upper secondary education\n",
    "- ISCED 4: Post-secondary non-tertiary education\n",
    "- ISCED 5: Short-cycle tertiary education\n",
    "- ISCED 6: Bachelor’s or equivalent level\n",
    "- ISCED 7: Master’s or equivalent level\n",
    "- ISCED 8: Doctoral or equivalent level\n",
    "\n",
    "More info about ISCED can be found [here](https://ec.europa.eu/eurostat/statistics-explained/index.php/International_Standard_Classification_of_Education_(ISCED))."
   ]
  },
  {
   "cell_type": "markdown",
   "id": "portable-oriental",
   "metadata": {},
   "source": [
    "### Notebook settings"
   ]
  },
  {
   "cell_type": "code",
   "execution_count": 1,
   "id": "sudden-courage",
   "metadata": {},
   "outputs": [],
   "source": [
    "# Change the default plots size \n",
    "options(repr.plot.width=15, repr.plot.height=10)\n",
    "options(warn=-1)"
   ]
  },
  {
   "cell_type": "markdown",
   "id": "computational-tribune",
   "metadata": {},
   "source": [
    "### Libraries"
   ]
  },
  {
   "cell_type": "code",
   "execution_count": 71,
   "id": "southeast-sigma",
   "metadata": {},
   "outputs": [],
   "source": [
    "library(essurvey)\n",
    "library(dplyr)\n",
    "library(ggplot2)\n",
    "library(ggthemes)\n",
    "library(gghighlight)\n",
    "library(foreign)\n",
    "library(survey)\n",
    "library(srvyr)"
   ]
  },
  {
   "cell_type": "markdown",
   "id": "compressed-briefing",
   "metadata": {},
   "source": [
    "## Data Extraction"
   ]
  },
  {
   "cell_type": "markdown",
   "id": "outdoor-subject",
   "metadata": {},
   "source": [
    "__Selecting the variables which will be used for the data analysis__"
   ]
  },
  {
   "cell_type": "code",
   "execution_count": 3,
   "id": "mental-housing",
   "metadata": {},
   "outputs": [],
   "source": [
    "survey_rawdata <- read.spss(\"ESS9e03_1.sav\", use.value.labels=T, max.value.labels=Inf, to.data.frame=TRUE)"
   ]
  },
  {
   "cell_type": "code",
   "execution_count": 4,
   "id": "attached-wales",
   "metadata": {},
   "outputs": [
    {
     "data": {
      "text/html": [
       "<table>\n",
       "<caption>A data.frame: 6 × 572</caption>\n",
       "<thead>\n",
       "\t<tr><th></th><th scope=col>name</th><th scope=col>essround</th><th scope=col>edition</th><th scope=col>proddate</th><th scope=col>idno</th><th scope=col>cntry</th><th scope=col>nwspol</th><th scope=col>netusoft</th><th scope=col>netustm</th><th scope=col>ppltrst</th><th scope=col>⋯</th><th scope=col>inwemm</th><th scope=col>inwtm</th><th scope=col>dweight</th><th scope=col>pspwght</th><th scope=col>pweight</th><th scope=col>anweight</th><th scope=col>domain</th><th scope=col>prob</th><th scope=col>stratum</th><th scope=col>psu</th></tr>\n",
       "\t<tr><th></th><th scope=col>&lt;chr&gt;</th><th scope=col>&lt;dbl&gt;</th><th scope=col>&lt;chr&gt;</th><th scope=col>&lt;chr&gt;</th><th scope=col>&lt;dbl&gt;</th><th scope=col>&lt;fct&gt;</th><th scope=col>&lt;fct&gt;</th><th scope=col>&lt;fct&gt;</th><th scope=col>&lt;fct&gt;</th><th scope=col>&lt;fct&gt;</th><th scope=col>⋯</th><th scope=col>&lt;fct&gt;</th><th scope=col>&lt;dbl&gt;</th><th scope=col>&lt;dbl&gt;</th><th scope=col>&lt;dbl&gt;</th><th scope=col>&lt;dbl&gt;</th><th scope=col>&lt;dbl&gt;</th><th scope=col>&lt;dbl&gt;</th><th scope=col>&lt;dbl&gt;</th><th scope=col>&lt;dbl&gt;</th><th scope=col>&lt;dbl&gt;</th></tr>\n",
       "</thead>\n",
       "<tbody>\n",
       "\t<tr><th scope=row>1</th><td>ESS9e03_1   </td><td>9</td><td>3.1</td><td>17.02.2021</td><td> 27</td><td>Austria</td><td>60</td><td>Every day        </td><td>180</td><td>2</td><td>⋯</td><td>7 </td><td> 46</td><td>0.5811743</td><td>0.2181114</td><td>0.3020914</td><td>0.06588958</td><td>2</td><td>0.0011755485</td><td>59</td><td>1688</td></tr>\n",
       "\t<tr><th scope=row>2</th><td>ESS9e03_1   </td><td>9</td><td>3.1</td><td>17.02.2021</td><td>137</td><td>Austria</td><td>10</td><td>Every day        </td><td>20 </td><td>7</td><td>⋯</td><td>6 </td><td> 73</td><td>1.0627724</td><td>0.4134733</td><td>0.3020914</td><td>0.12490674</td><td>2</td><td>0.0006428456</td><td>79</td><td>  88</td></tr>\n",
       "\t<tr><th scope=row>3</th><td>ESS9e03_1   </td><td>9</td><td>3.1</td><td>17.02.2021</td><td>194</td><td>Austria</td><td>60</td><td>Most days        </td><td>180</td><td>5</td><td>⋯</td><td>48</td><td> 92</td><td>1.3765086</td><td>2.2702928</td><td>0.3020914</td><td>0.68583600</td><td>2</td><td>0.0004963272</td><td>11</td><td> 938</td></tr>\n",
       "\t<tr><th scope=row>4</th><td>ESS9e03_1   </td><td>9</td><td>3.1</td><td>17.02.2021</td><td>208</td><td>Austria</td><td>45</td><td>Every day        </td><td>120</td><td>3</td><td>⋯</td><td>49</td><td>134</td><td>0.9933993</td><td>0.3864834</td><td>0.3020914</td><td>0.11675334</td><td>2</td><td>0.0006877382</td><td>74</td><td>1998</td></tr>\n",
       "\t<tr><th scope=row>5</th><td>ESS9e03_1   </td><td>9</td><td>3.1</td><td>17.02.2021</td><td>220</td><td>Austria</td><td>30</td><td>Never            </td><td>NA </td><td>5</td><td>⋯</td><td>39</td><td> 40</td><td>0.3773534</td><td>1.0321022</td><td>0.3020914</td><td>0.31178924</td><td>2</td><td>0.0018105009</td><td>99</td><td> 601</td></tr>\n",
       "\t<tr><th scope=row>6</th><td>ESS9e03_1   </td><td>9</td><td>3.1</td><td>17.02.2021</td><td>254</td><td>Austria</td><td>45</td><td>Only occasionally</td><td>NA </td><td>8</td><td>⋯</td><td>12</td><td> 52</td><td>1.4793528</td><td>0.5755447</td><td>0.3020914</td><td>0.17386711</td><td>2</td><td>0.0004618227</td><td>77</td><td>  68</td></tr>\n",
       "</tbody>\n",
       "</table>\n"
      ],
      "text/latex": [
       "A data.frame: 6 × 572\n",
       "\\begin{tabular}{r|lllllllllllllllllllll}\n",
       "  & name & essround & edition & proddate & idno & cntry & nwspol & netusoft & netustm & ppltrst & ⋯ & inwemm & inwtm & dweight & pspwght & pweight & anweight & domain & prob & stratum & psu\\\\\n",
       "  & <chr> & <dbl> & <chr> & <chr> & <dbl> & <fct> & <fct> & <fct> & <fct> & <fct> & ⋯ & <fct> & <dbl> & <dbl> & <dbl> & <dbl> & <dbl> & <dbl> & <dbl> & <dbl> & <dbl>\\\\\n",
       "\\hline\n",
       "\t1 & ESS9e03\\_1    & 9 & 3.1 & 17.02.2021 &  27 & Austria & 60 & Every day         & 180 & 2 & ⋯ & 7  &  46 & 0.5811743 & 0.2181114 & 0.3020914 & 0.06588958 & 2 & 0.0011755485 & 59 & 1688\\\\\n",
       "\t2 & ESS9e03\\_1    & 9 & 3.1 & 17.02.2021 & 137 & Austria & 10 & Every day         & 20  & 7 & ⋯ & 6  &  73 & 1.0627724 & 0.4134733 & 0.3020914 & 0.12490674 & 2 & 0.0006428456 & 79 &   88\\\\\n",
       "\t3 & ESS9e03\\_1    & 9 & 3.1 & 17.02.2021 & 194 & Austria & 60 & Most days         & 180 & 5 & ⋯ & 48 &  92 & 1.3765086 & 2.2702928 & 0.3020914 & 0.68583600 & 2 & 0.0004963272 & 11 &  938\\\\\n",
       "\t4 & ESS9e03\\_1    & 9 & 3.1 & 17.02.2021 & 208 & Austria & 45 & Every day         & 120 & 3 & ⋯ & 49 & 134 & 0.9933993 & 0.3864834 & 0.3020914 & 0.11675334 & 2 & 0.0006877382 & 74 & 1998\\\\\n",
       "\t5 & ESS9e03\\_1    & 9 & 3.1 & 17.02.2021 & 220 & Austria & 30 & Never             & NA  & 5 & ⋯ & 39 &  40 & 0.3773534 & 1.0321022 & 0.3020914 & 0.31178924 & 2 & 0.0018105009 & 99 &  601\\\\\n",
       "\t6 & ESS9e03\\_1    & 9 & 3.1 & 17.02.2021 & 254 & Austria & 45 & Only occasionally & NA  & 8 & ⋯ & 12 &  52 & 1.4793528 & 0.5755447 & 0.3020914 & 0.17386711 & 2 & 0.0004618227 & 77 &   68\\\\\n",
       "\\end{tabular}\n"
      ],
      "text/markdown": [
       "\n",
       "A data.frame: 6 × 572\n",
       "\n",
       "| <!--/--> | name &lt;chr&gt; | essround &lt;dbl&gt; | edition &lt;chr&gt; | proddate &lt;chr&gt; | idno &lt;dbl&gt; | cntry &lt;fct&gt; | nwspol &lt;fct&gt; | netusoft &lt;fct&gt; | netustm &lt;fct&gt; | ppltrst &lt;fct&gt; | ⋯ ⋯ | inwemm &lt;fct&gt; | inwtm &lt;dbl&gt; | dweight &lt;dbl&gt; | pspwght &lt;dbl&gt; | pweight &lt;dbl&gt; | anweight &lt;dbl&gt; | domain &lt;dbl&gt; | prob &lt;dbl&gt; | stratum &lt;dbl&gt; | psu &lt;dbl&gt; |\n",
       "|---|---|---|---|---|---|---|---|---|---|---|---|---|---|---|---|---|---|---|---|---|---|\n",
       "| 1 | ESS9e03_1    | 9 | 3.1 | 17.02.2021 |  27 | Austria | 60 | Every day         | 180 | 2 | ⋯ | 7  |  46 | 0.5811743 | 0.2181114 | 0.3020914 | 0.06588958 | 2 | 0.0011755485 | 59 | 1688 |\n",
       "| 2 | ESS9e03_1    | 9 | 3.1 | 17.02.2021 | 137 | Austria | 10 | Every day         | 20  | 7 | ⋯ | 6  |  73 | 1.0627724 | 0.4134733 | 0.3020914 | 0.12490674 | 2 | 0.0006428456 | 79 |   88 |\n",
       "| 3 | ESS9e03_1    | 9 | 3.1 | 17.02.2021 | 194 | Austria | 60 | Most days         | 180 | 5 | ⋯ | 48 |  92 | 1.3765086 | 2.2702928 | 0.3020914 | 0.68583600 | 2 | 0.0004963272 | 11 |  938 |\n",
       "| 4 | ESS9e03_1    | 9 | 3.1 | 17.02.2021 | 208 | Austria | 45 | Every day         | 120 | 3 | ⋯ | 49 | 134 | 0.9933993 | 0.3864834 | 0.3020914 | 0.11675334 | 2 | 0.0006877382 | 74 | 1998 |\n",
       "| 5 | ESS9e03_1    | 9 | 3.1 | 17.02.2021 | 220 | Austria | 30 | Never             | NA  | 5 | ⋯ | 39 |  40 | 0.3773534 | 1.0321022 | 0.3020914 | 0.31178924 | 2 | 0.0018105009 | 99 |  601 |\n",
       "| 6 | ESS9e03_1    | 9 | 3.1 | 17.02.2021 | 254 | Austria | 45 | Only occasionally | NA  | 8 | ⋯ | 12 |  52 | 1.4793528 | 0.5755447 | 0.3020914 | 0.17386711 | 2 | 0.0004618227 | 77 |   68 |\n",
       "\n"
      ],
      "text/plain": [
       "  name         essround edition proddate   idno cntry   nwspol\n",
       "1 ESS9e03_1    9        3.1     17.02.2021  27  Austria 60    \n",
       "2 ESS9e03_1    9        3.1     17.02.2021 137  Austria 10    \n",
       "3 ESS9e03_1    9        3.1     17.02.2021 194  Austria 60    \n",
       "4 ESS9e03_1    9        3.1     17.02.2021 208  Austria 45    \n",
       "5 ESS9e03_1    9        3.1     17.02.2021 220  Austria 30    \n",
       "6 ESS9e03_1    9        3.1     17.02.2021 254  Austria 45    \n",
       "  netusoft          netustm ppltrst ⋯ inwemm inwtm dweight   pspwght  \n",
       "1 Every day         180     2       ⋯ 7       46   0.5811743 0.2181114\n",
       "2 Every day         20      7       ⋯ 6       73   1.0627724 0.4134733\n",
       "3 Most days         180     5       ⋯ 48      92   1.3765086 2.2702928\n",
       "4 Every day         120     3       ⋯ 49     134   0.9933993 0.3864834\n",
       "5 Never             NA      5       ⋯ 39      40   0.3773534 1.0321022\n",
       "6 Only occasionally NA      8       ⋯ 12      52   1.4793528 0.5755447\n",
       "  pweight   anweight   domain prob         stratum psu \n",
       "1 0.3020914 0.06588958 2      0.0011755485 59      1688\n",
       "2 0.3020914 0.12490674 2      0.0006428456 79        88\n",
       "3 0.3020914 0.68583600 2      0.0004963272 11       938\n",
       "4 0.3020914 0.11675334 2      0.0006877382 74      1998\n",
       "5 0.3020914 0.31178924 2      0.0018105009 99       601\n",
       "6 0.3020914 0.17386711 2      0.0004618227 77        68"
      ]
     },
     "metadata": {},
     "output_type": "display_data"
    }
   ],
   "source": [
    "head(survey_rawdata)"
   ]
  },
  {
   "cell_type": "code",
   "execution_count": 37,
   "id": "sustainable-voice",
   "metadata": {},
   "outputs": [],
   "source": [
    "european_survey <- survey_rawdata[,c(\"cntry\", \"eduyrs\", \"eisced\", \"netusoft\", \"uemp3m\", \"mbtru\", \"vteurmmb\", \"yrbrn\", \"agea\", \"gndr\", \"anweight\", \"psu\", \"stratum\")]"
   ]
  },
  {
   "cell_type": "code",
   "execution_count": 6,
   "id": "russian-savage",
   "metadata": {},
   "outputs": [
    {
     "data": {
      "text/html": [
       "<table>\n",
       "<caption>A data.frame: 6 × 13</caption>\n",
       "<thead>\n",
       "\t<tr><th></th><th scope=col>cntry</th><th scope=col>eduyrs</th><th scope=col>eisced</th><th scope=col>netusoft</th><th scope=col>uemp3m</th><th scope=col>mbtru</th><th scope=col>vteurmmb</th><th scope=col>yrbrn</th><th scope=col>agea</th><th scope=col>gndr</th><th scope=col>anweight</th><th scope=col>psu</th><th scope=col>stratum</th></tr>\n",
       "\t<tr><th></th><th scope=col>&lt;fct&gt;</th><th scope=col>&lt;fct&gt;</th><th scope=col>&lt;fct&gt;</th><th scope=col>&lt;fct&gt;</th><th scope=col>&lt;fct&gt;</th><th scope=col>&lt;fct&gt;</th><th scope=col>&lt;fct&gt;</th><th scope=col>&lt;fct&gt;</th><th scope=col>&lt;fct&gt;</th><th scope=col>&lt;fct&gt;</th><th scope=col>&lt;dbl&gt;</th><th scope=col>&lt;dbl&gt;</th><th scope=col>&lt;dbl&gt;</th></tr>\n",
       "</thead>\n",
       "<tbody>\n",
       "\t<tr><th scope=row>1</th><td>Austria</td><td>12</td><td>ES-ISCED IIIb, lower tier upper secondary</td><td>Every day        </td><td>No</td><td>No             </td><td>Remain member of the European Union</td><td>1975</td><td>43</td><td>Male  </td><td>0.06588958</td><td>1688</td><td>59</td></tr>\n",
       "\t<tr><th scope=row>2</th><td>Austria</td><td>12</td><td>ES-ISCED IIIb, lower tier upper secondary</td><td>Every day        </td><td>No</td><td>Yes, previously</td><td>Remain member of the European Union</td><td>1951</td><td>67</td><td>Male  </td><td>0.12490674</td><td>  88</td><td>79</td></tr>\n",
       "\t<tr><th scope=row>3</th><td>Austria</td><td>12</td><td>ES-ISCED II, lower secondary             </td><td>Most days        </td><td>No</td><td>No             </td><td>Leave the European Union           </td><td>1978</td><td>40</td><td>Female</td><td>0.68583600</td><td> 938</td><td>11</td></tr>\n",
       "\t<tr><th scope=row>4</th><td>Austria</td><td>11</td><td>ES-ISCED IIIb, lower tier upper secondary</td><td>Every day        </td><td>No</td><td>No             </td><td>Remain member of the European Union</td><td>1955</td><td>63</td><td>Male  </td><td>0.11675334</td><td>1998</td><td>74</td></tr>\n",
       "\t<tr><th scope=row>5</th><td>Austria</td><td>8 </td><td>ES-ISCED II, lower secondary             </td><td>Never            </td><td>No</td><td>No             </td><td>Remain member of the European Union</td><td>1947</td><td>71</td><td>Female</td><td>0.31178924</td><td> 601</td><td>99</td></tr>\n",
       "\t<tr><th scope=row>6</th><td>Austria</td><td>13</td><td>ES-ISCED IIIb, lower tier upper secondary</td><td>Only occasionally</td><td>No</td><td>Yes, previously</td><td>Remain member of the European Union</td><td>1954</td><td>64</td><td>Male  </td><td>0.17386711</td><td>  68</td><td>77</td></tr>\n",
       "</tbody>\n",
       "</table>\n"
      ],
      "text/latex": [
       "A data.frame: 6 × 13\n",
       "\\begin{tabular}{r|lllllllllllll}\n",
       "  & cntry & eduyrs & eisced & netusoft & uemp3m & mbtru & vteurmmb & yrbrn & agea & gndr & anweight & psu & stratum\\\\\n",
       "  & <fct> & <fct> & <fct> & <fct> & <fct> & <fct> & <fct> & <fct> & <fct> & <fct> & <dbl> & <dbl> & <dbl>\\\\\n",
       "\\hline\n",
       "\t1 & Austria & 12 & ES-ISCED IIIb, lower tier upper secondary & Every day         & No & No              & Remain member of the European Union & 1975 & 43 & Male   & 0.06588958 & 1688 & 59\\\\\n",
       "\t2 & Austria & 12 & ES-ISCED IIIb, lower tier upper secondary & Every day         & No & Yes, previously & Remain member of the European Union & 1951 & 67 & Male   & 0.12490674 &   88 & 79\\\\\n",
       "\t3 & Austria & 12 & ES-ISCED II, lower secondary              & Most days         & No & No              & Leave the European Union            & 1978 & 40 & Female & 0.68583600 &  938 & 11\\\\\n",
       "\t4 & Austria & 11 & ES-ISCED IIIb, lower tier upper secondary & Every day         & No & No              & Remain member of the European Union & 1955 & 63 & Male   & 0.11675334 & 1998 & 74\\\\\n",
       "\t5 & Austria & 8  & ES-ISCED II, lower secondary              & Never             & No & No              & Remain member of the European Union & 1947 & 71 & Female & 0.31178924 &  601 & 99\\\\\n",
       "\t6 & Austria & 13 & ES-ISCED IIIb, lower tier upper secondary & Only occasionally & No & Yes, previously & Remain member of the European Union & 1954 & 64 & Male   & 0.17386711 &   68 & 77\\\\\n",
       "\\end{tabular}\n"
      ],
      "text/markdown": [
       "\n",
       "A data.frame: 6 × 13\n",
       "\n",
       "| <!--/--> | cntry &lt;fct&gt; | eduyrs &lt;fct&gt; | eisced &lt;fct&gt; | netusoft &lt;fct&gt; | uemp3m &lt;fct&gt; | mbtru &lt;fct&gt; | vteurmmb &lt;fct&gt; | yrbrn &lt;fct&gt; | agea &lt;fct&gt; | gndr &lt;fct&gt; | anweight &lt;dbl&gt; | psu &lt;dbl&gt; | stratum &lt;dbl&gt; |\n",
       "|---|---|---|---|---|---|---|---|---|---|---|---|---|---|\n",
       "| 1 | Austria | 12 | ES-ISCED IIIb, lower tier upper secondary | Every day         | No | No              | Remain member of the European Union | 1975 | 43 | Male   | 0.06588958 | 1688 | 59 |\n",
       "| 2 | Austria | 12 | ES-ISCED IIIb, lower tier upper secondary | Every day         | No | Yes, previously | Remain member of the European Union | 1951 | 67 | Male   | 0.12490674 |   88 | 79 |\n",
       "| 3 | Austria | 12 | ES-ISCED II, lower secondary              | Most days         | No | No              | Leave the European Union            | 1978 | 40 | Female | 0.68583600 |  938 | 11 |\n",
       "| 4 | Austria | 11 | ES-ISCED IIIb, lower tier upper secondary | Every day         | No | No              | Remain member of the European Union | 1955 | 63 | Male   | 0.11675334 | 1998 | 74 |\n",
       "| 5 | Austria | 8  | ES-ISCED II, lower secondary              | Never             | No | No              | Remain member of the European Union | 1947 | 71 | Female | 0.31178924 |  601 | 99 |\n",
       "| 6 | Austria | 13 | ES-ISCED IIIb, lower tier upper secondary | Only occasionally | No | Yes, previously | Remain member of the European Union | 1954 | 64 | Male   | 0.17386711 |   68 | 77 |\n",
       "\n"
      ],
      "text/plain": [
       "  cntry   eduyrs eisced                                    netusoft         \n",
       "1 Austria 12     ES-ISCED IIIb, lower tier upper secondary Every day        \n",
       "2 Austria 12     ES-ISCED IIIb, lower tier upper secondary Every day        \n",
       "3 Austria 12     ES-ISCED II, lower secondary              Most days        \n",
       "4 Austria 11     ES-ISCED IIIb, lower tier upper secondary Every day        \n",
       "5 Austria 8      ES-ISCED II, lower secondary              Never            \n",
       "6 Austria 13     ES-ISCED IIIb, lower tier upper secondary Only occasionally\n",
       "  uemp3m mbtru           vteurmmb                            yrbrn agea gndr  \n",
       "1 No     No              Remain member of the European Union 1975  43   Male  \n",
       "2 No     Yes, previously Remain member of the European Union 1951  67   Male  \n",
       "3 No     No              Leave the European Union            1978  40   Female\n",
       "4 No     No              Remain member of the European Union 1955  63   Male  \n",
       "5 No     No              Remain member of the European Union 1947  71   Female\n",
       "6 No     Yes, previously Remain member of the European Union 1954  64   Male  \n",
       "  anweight   psu  stratum\n",
       "1 0.06588958 1688 59     \n",
       "2 0.12490674   88 79     \n",
       "3 0.68583600  938 11     \n",
       "4 0.11675334 1998 74     \n",
       "5 0.31178924  601 99     \n",
       "6 0.17386711   68 77     "
      ]
     },
     "metadata": {},
     "output_type": "display_data"
    }
   ],
   "source": [
    "head(european_survey)"
   ]
  },
  {
   "cell_type": "code",
   "execution_count": 7,
   "id": "equivalent-group",
   "metadata": {},
   "outputs": [
    {
     "data": {
      "text/html": [
       "49519"
      ],
      "text/latex": [
       "49519"
      ],
      "text/markdown": [
       "49519"
      ],
      "text/plain": [
       "[1] 49519"
      ]
     },
     "metadata": {},
     "output_type": "display_data"
    }
   ],
   "source": [
    "nrow(european_survey)"
   ]
  },
  {
   "cell_type": "markdown",
   "id": "comprehensive-parallel",
   "metadata": {},
   "source": [
    "<a id=\"2\"></a> <br>\n",
    "<font size=\"+3\" color=\"black\"><b>2 - Data Cleaning & Wrangling</b></font><br><a id=\"2\"></a>\n",
    "<br> "
   ]
  },
  {
   "cell_type": "code",
   "execution_count": 38,
   "id": "heavy-bulgaria",
   "metadata": {},
   "outputs": [
    {
     "data": {
      "text/html": [
       "<style>\n",
       ".dl-inline {width: auto; margin:0; padding: 0}\n",
       ".dl-inline>dt, .dl-inline>dd {float: none; width: auto; display: inline-block}\n",
       ".dl-inline>dt::after {content: \":\\0020\"; padding-right: .5ex}\n",
       ".dl-inline>dt:not(:first-of-type) {padding-left: .5ex}\n",
       "</style><dl class=dl-inline><dt>cntry</dt><dd>0</dd><dt>eduyrs</dt><dd>708</dd><dt>eisced</dt><dd>107</dd><dt>netusoft</dt><dd>47</dd><dt>uemp3m</dt><dd>295</dd><dt>mbtru</dt><dd>331</dd><dt>vteurmmb</dt><dd>13648</dd><dt>yrbrn</dt><dd>222</dd><dt>agea</dt><dd>222</dd><dt>gndr</dt><dd>0</dd><dt>anweight</dt><dd>0</dd><dt>psu</dt><dd>0</dd><dt>stratum</dt><dd>0</dd></dl>\n"
      ],
      "text/latex": [
       "\\begin{description*}\n",
       "\\item[cntry] 0\n",
       "\\item[eduyrs] 708\n",
       "\\item[eisced] 107\n",
       "\\item[netusoft] 47\n",
       "\\item[uemp3m] 295\n",
       "\\item[mbtru] 331\n",
       "\\item[vteurmmb] 13648\n",
       "\\item[yrbrn] 222\n",
       "\\item[agea] 222\n",
       "\\item[gndr] 0\n",
       "\\item[anweight] 0\n",
       "\\item[psu] 0\n",
       "\\item[stratum] 0\n",
       "\\end{description*}\n"
      ],
      "text/markdown": [
       "cntry\n",
       ":   0eduyrs\n",
       ":   708eisced\n",
       ":   107netusoft\n",
       ":   47uemp3m\n",
       ":   295mbtru\n",
       ":   331vteurmmb\n",
       ":   13648yrbrn\n",
       ":   222agea\n",
       ":   222gndr\n",
       ":   0anweight\n",
       ":   0psu\n",
       ":   0stratum\n",
       ":   0\n",
       "\n"
      ],
      "text/plain": [
       "   cntry   eduyrs   eisced netusoft   uemp3m    mbtru vteurmmb    yrbrn \n",
       "       0      708      107       47      295      331    13648      222 \n",
       "    agea     gndr anweight      psu  stratum \n",
       "     222        0        0        0        0 "
      ]
     },
     "metadata": {},
     "output_type": "display_data"
    }
   ],
   "source": [
    "# Checking for NA's in the dataset\n",
    "sapply(european_survey, function(x) sum(is.na(x)))"
   ]
  },
  {
   "cell_type": "code",
   "execution_count": 39,
   "id": "sacred-netscape",
   "metadata": {},
   "outputs": [],
   "source": [
    "# For the purpose of this analysis, considering Vote as Leave or Remain\n",
    "european_survey$vteurmmb <- as.character(european_survey$vteurmmb)\n",
    "european_survey$vteurmmb[european_survey$vteurmmb == \"Remain member of the European Union\"] <- \"Remain\"\n",
    "european_survey$vteurmmb[european_survey$vteurmmb == \"Leave the European Union\"] <- \"Leave\"\n",
    "european_survey$vteurmmb[european_survey$vteurmmb == \"Would submit a blank ballot paper\"] <- NA\n",
    "european_survey$vteurmmb[european_survey$vteurmmb == \"Would spoil the ballot paper\"] <- NA\n",
    "european_survey$vteurmmb[european_survey$vteurmmb == \"Would not vote\"] <- NA\n",
    "european_survey$vteurmmb[european_survey$vteurmmb == \"Not eligible to vote\"] <- NA\n",
    "european_survey$vteurmmb <- as.factor(european_survey$vteurmmb)"
   ]
  },
  {
   "cell_type": "markdown",
   "id": "celtic-digest",
   "metadata": {},
   "source": [
    "__Aggregation Levels for variable EISCED__\n",
    "\n",
    "| Level            | ISCED      |\n",
    "| :-----------:    |:----------:|\n",
    "| Low education    | Levels 0-2 |\n",
    "| Medium education | Levels 3-4 |\n",
    "| High education   | Levels 5-8 |"
   ]
  },
  {
   "cell_type": "code",
   "execution_count": 47,
   "id": "appreciated-romance",
   "metadata": {},
   "outputs": [],
   "source": [
    "# Cleaning responses that are not able to fit into ISCED\n",
    "european_survey$eisced <- as.character(european_survey$eisced)\n",
    "european_survey$eisced[european_survey$eisced == \"Not possible to harmonise into ES-ISCED\"] <- NA\n",
    "european_survey$eisced[european_survey$eisced == \"Other\"] <- NA"
   ]
  },
  {
   "cell_type": "code",
   "execution_count": 72,
   "id": "statistical-affect",
   "metadata": {},
   "outputs": [],
   "source": [
    "# Creating a new feature Education by aggregating the ISCED\"s levels\n",
    "# Low, Medium and High Education\n",
    "european_survey <- european_survey %>% \n",
    "  mutate(Education = case_when(\n",
    "      eisced == \"ES-ISCED I , less than lower secondary\" ~ \"Low Education\",\n",
    "      eisced == \"ES-ISCED II, lower secondary\" ~ \"Low Education\",\n",
    "      eisced == \"ES-ISCED IIIb, lower tier upper secondary\" ~ \"Medium Education\",\n",
    "      eisced == \"ES-ISCED IIIa, upper tier upper secondary\" ~ \"Medium Education\",\n",
    "      eisced == \"ES-ISCED IV, advanced vocational, sub-degree\" ~ \"Medium Education\",\n",
    "      eisced == \"ES-ISCED V1, lower tertiary education, BA level\" ~ \"High Education\",\n",
    "      eisced == \"ES-ISCED V2, higher tertiary education, >= MA level\" ~ \"High Education\",\n",
    "      TRUE ~ eisced))\n",
    "european_survey$Education <- as.factor(european_survey$Education)\n",
    "european_survey$eisced <- as.factor(european_survey$eisced)"
   ]
  },
  {
   "cell_type": "code",
   "execution_count": 74,
   "id": "arbitrary-drama",
   "metadata": {},
   "outputs": [
    {
     "data": {
      "text/html": [
       "<style>\n",
       ".dl-inline {width: auto; margin:0; padding: 0}\n",
       ".dl-inline>dt, .dl-inline>dd {float: none; width: auto; display: inline-block}\n",
       ".dl-inline>dt::after {content: \":\\0020\"; padding-right: .5ex}\n",
       ".dl-inline>dt:not(:first-of-type) {padding-left: .5ex}\n",
       "</style><dl class=dl-inline><dt>cntry</dt><dd>0</dd><dt>eduyrs</dt><dd>0</dd><dt>eisced</dt><dd>0</dd><dt>netusoft</dt><dd>0</dd><dt>uemp3m</dt><dd>0</dd><dt>mbtru</dt><dd>0</dd><dt>vteurmmb</dt><dd>0</dd><dt>yrbrn</dt><dd>0</dd><dt>agea</dt><dd>0</dd><dt>gndr</dt><dd>0</dd><dt>anweight</dt><dd>0</dd><dt>psu</dt><dd>0</dd><dt>stratum</dt><dd>0</dd><dt>Education</dt><dd>0</dd></dl>\n"
      ],
      "text/latex": [
       "\\begin{description*}\n",
       "\\item[cntry] 0\n",
       "\\item[eduyrs] 0\n",
       "\\item[eisced] 0\n",
       "\\item[netusoft] 0\n",
       "\\item[uemp3m] 0\n",
       "\\item[mbtru] 0\n",
       "\\item[vteurmmb] 0\n",
       "\\item[yrbrn] 0\n",
       "\\item[agea] 0\n",
       "\\item[gndr] 0\n",
       "\\item[anweight] 0\n",
       "\\item[psu] 0\n",
       "\\item[stratum] 0\n",
       "\\item[Education] 0\n",
       "\\end{description*}\n"
      ],
      "text/markdown": [
       "cntry\n",
       ":   0eduyrs\n",
       ":   0eisced\n",
       ":   0netusoft\n",
       ":   0uemp3m\n",
       ":   0mbtru\n",
       ":   0vteurmmb\n",
       ":   0yrbrn\n",
       ":   0agea\n",
       ":   0gndr\n",
       ":   0anweight\n",
       ":   0psu\n",
       ":   0stratum\n",
       ":   0Education\n",
       ":   0\n",
       "\n"
      ],
      "text/plain": [
       "    cntry    eduyrs    eisced  netusoft    uemp3m     mbtru  vteurmmb     yrbrn \n",
       "        0         0         0         0         0         0         0         0 \n",
       "     agea      gndr  anweight       psu   stratum Education \n",
       "        0         0         0         0         0         0 "
      ]
     },
     "metadata": {},
     "output_type": "display_data"
    }
   ],
   "source": [
    "# Cleaning NA values\n",
    "df_european_survey <- european_survey[complete.cases(european_survey), ]\n",
    "sapply(df_european_survey, function(x) sum(is.na(x)))"
   ]
  },
  {
   "cell_type": "code",
   "execution_count": 76,
   "id": "automated-coating",
   "metadata": {},
   "outputs": [],
   "source": [
    "# Different way to clean the variable leaving as yes or no\n",
    "df_european_survey$uemp3m <- as.character(df_european_survey$uemp3m)\n",
    "df_european_survey$uemp3m <- as.factor(df_european_survey$uemp3m)"
   ]
  },
  {
   "cell_type": "code",
   "execution_count": 77,
   "id": "human-weekend",
   "metadata": {},
   "outputs": [],
   "source": [
    "# For the purpose of this analysis, considering the answer if the respondent ever been a member \n",
    "# of a trade union or similar organisation - \"Yes, currently\" and \"Yes, previously\" as simple Yes\n",
    "df_european_survey$mbtru <- as.character(df_european_survey$mbtru)\n",
    "df_european_survey$mbtru[df_european_survey$mbtru == \"Yes, currently\"] <- \"Yes\"\n",
    "df_european_survey$mbtru[df_european_survey$mbtru == \"Yes, previously\"] <- \"Yes\"\n",
    "df_european_survey$mbtru <- as.factor(df_european_survey$mbtru)\n"
   ]
  },
  {
   "cell_type": "code",
   "execution_count": 61,
   "id": "controlled-punch",
   "metadata": {},
   "outputs": [],
   "source": [
    "# Transforming as numeric the variable Years of Education\n",
    "df_european_survey$eduyrs <- as.numeric(df_european_survey$eduyrs)"
   ]
  },
  {
   "cell_type": "code",
   "execution_count": 68,
   "id": "taken-words",
   "metadata": {},
   "outputs": [],
   "source": [
    "# Creating a new feature as per age (eg. young, young adult, older adult, elderly)\n",
    "df_european_survey$agea <- as.numeric(df_european_survey$agea)\n",
    "df_european_survey <- df_european_survey %>% \n",
    "  mutate(Age_Band = case_when(\n",
    "    agea < 20 ~ \"<20\",\n",
    "    agea >= 20 & agea < 40 ~ \"20-39\",\n",
    "    agea >= 40 & agea <= 65 ~ \"40-65\",\n",
    "    agea > 65 ~ \">65\"))\n",
    "df_european_survey$Age_Band <- as.factor(df_european_survey$Age_Band)"
   ]
  },
  {
   "cell_type": "code",
   "execution_count": 75,
   "id": "studied-great",
   "metadata": {},
   "outputs": [
    {
     "data": {
      "text/html": [
       "<table>\n",
       "<caption>A data.frame: 6 × 14</caption>\n",
       "<thead>\n",
       "\t<tr><th></th><th scope=col>cntry</th><th scope=col>eduyrs</th><th scope=col>eisced</th><th scope=col>netusoft</th><th scope=col>uemp3m</th><th scope=col>mbtru</th><th scope=col>vteurmmb</th><th scope=col>yrbrn</th><th scope=col>agea</th><th scope=col>gndr</th><th scope=col>anweight</th><th scope=col>psu</th><th scope=col>stratum</th><th scope=col>Education</th></tr>\n",
       "\t<tr><th></th><th scope=col>&lt;fct&gt;</th><th scope=col>&lt;fct&gt;</th><th scope=col>&lt;fct&gt;</th><th scope=col>&lt;fct&gt;</th><th scope=col>&lt;fct&gt;</th><th scope=col>&lt;fct&gt;</th><th scope=col>&lt;fct&gt;</th><th scope=col>&lt;fct&gt;</th><th scope=col>&lt;fct&gt;</th><th scope=col>&lt;fct&gt;</th><th scope=col>&lt;dbl&gt;</th><th scope=col>&lt;dbl&gt;</th><th scope=col>&lt;dbl&gt;</th><th scope=col>&lt;fct&gt;</th></tr>\n",
       "</thead>\n",
       "<tbody>\n",
       "\t<tr><th scope=row>1</th><td>Austria</td><td>12</td><td>ES-ISCED IIIb, lower tier upper secondary</td><td>Every day        </td><td>No</td><td>No             </td><td>Remain</td><td>1975</td><td>43</td><td>Male  </td><td>0.06588958</td><td>1688</td><td>59</td><td>Medium Education</td></tr>\n",
       "\t<tr><th scope=row>2</th><td>Austria</td><td>12</td><td>ES-ISCED IIIb, lower tier upper secondary</td><td>Every day        </td><td>No</td><td>Yes, previously</td><td>Remain</td><td>1951</td><td>67</td><td>Male  </td><td>0.12490674</td><td>  88</td><td>79</td><td>Medium Education</td></tr>\n",
       "\t<tr><th scope=row>3</th><td>Austria</td><td>12</td><td>ES-ISCED II, lower secondary             </td><td>Most days        </td><td>No</td><td>No             </td><td>Leave </td><td>1978</td><td>40</td><td>Female</td><td>0.68583600</td><td> 938</td><td>11</td><td>Low Education   </td></tr>\n",
       "\t<tr><th scope=row>4</th><td>Austria</td><td>11</td><td>ES-ISCED IIIb, lower tier upper secondary</td><td>Every day        </td><td>No</td><td>No             </td><td>Remain</td><td>1955</td><td>63</td><td>Male  </td><td>0.11675334</td><td>1998</td><td>74</td><td>Medium Education</td></tr>\n",
       "\t<tr><th scope=row>5</th><td>Austria</td><td>8 </td><td>ES-ISCED II, lower secondary             </td><td>Never            </td><td>No</td><td>No             </td><td>Remain</td><td>1947</td><td>71</td><td>Female</td><td>0.31178924</td><td> 601</td><td>99</td><td>Low Education   </td></tr>\n",
       "\t<tr><th scope=row>6</th><td>Austria</td><td>13</td><td>ES-ISCED IIIb, lower tier upper secondary</td><td>Only occasionally</td><td>No</td><td>Yes, previously</td><td>Remain</td><td>1954</td><td>64</td><td>Male  </td><td>0.17386711</td><td>  68</td><td>77</td><td>Medium Education</td></tr>\n",
       "</tbody>\n",
       "</table>\n"
      ],
      "text/latex": [
       "A data.frame: 6 × 14\n",
       "\\begin{tabular}{r|llllllllllllll}\n",
       "  & cntry & eduyrs & eisced & netusoft & uemp3m & mbtru & vteurmmb & yrbrn & agea & gndr & anweight & psu & stratum & Education\\\\\n",
       "  & <fct> & <fct> & <fct> & <fct> & <fct> & <fct> & <fct> & <fct> & <fct> & <fct> & <dbl> & <dbl> & <dbl> & <fct>\\\\\n",
       "\\hline\n",
       "\t1 & Austria & 12 & ES-ISCED IIIb, lower tier upper secondary & Every day         & No & No              & Remain & 1975 & 43 & Male   & 0.06588958 & 1688 & 59 & Medium Education\\\\\n",
       "\t2 & Austria & 12 & ES-ISCED IIIb, lower tier upper secondary & Every day         & No & Yes, previously & Remain & 1951 & 67 & Male   & 0.12490674 &   88 & 79 & Medium Education\\\\\n",
       "\t3 & Austria & 12 & ES-ISCED II, lower secondary              & Most days         & No & No              & Leave  & 1978 & 40 & Female & 0.68583600 &  938 & 11 & Low Education   \\\\\n",
       "\t4 & Austria & 11 & ES-ISCED IIIb, lower tier upper secondary & Every day         & No & No              & Remain & 1955 & 63 & Male   & 0.11675334 & 1998 & 74 & Medium Education\\\\\n",
       "\t5 & Austria & 8  & ES-ISCED II, lower secondary              & Never             & No & No              & Remain & 1947 & 71 & Female & 0.31178924 &  601 & 99 & Low Education   \\\\\n",
       "\t6 & Austria & 13 & ES-ISCED IIIb, lower tier upper secondary & Only occasionally & No & Yes, previously & Remain & 1954 & 64 & Male   & 0.17386711 &   68 & 77 & Medium Education\\\\\n",
       "\\end{tabular}\n"
      ],
      "text/markdown": [
       "\n",
       "A data.frame: 6 × 14\n",
       "\n",
       "| <!--/--> | cntry &lt;fct&gt; | eduyrs &lt;fct&gt; | eisced &lt;fct&gt; | netusoft &lt;fct&gt; | uemp3m &lt;fct&gt; | mbtru &lt;fct&gt; | vteurmmb &lt;fct&gt; | yrbrn &lt;fct&gt; | agea &lt;fct&gt; | gndr &lt;fct&gt; | anweight &lt;dbl&gt; | psu &lt;dbl&gt; | stratum &lt;dbl&gt; | Education &lt;fct&gt; |\n",
       "|---|---|---|---|---|---|---|---|---|---|---|---|---|---|---|\n",
       "| 1 | Austria | 12 | ES-ISCED IIIb, lower tier upper secondary | Every day         | No | No              | Remain | 1975 | 43 | Male   | 0.06588958 | 1688 | 59 | Medium Education |\n",
       "| 2 | Austria | 12 | ES-ISCED IIIb, lower tier upper secondary | Every day         | No | Yes, previously | Remain | 1951 | 67 | Male   | 0.12490674 |   88 | 79 | Medium Education |\n",
       "| 3 | Austria | 12 | ES-ISCED II, lower secondary              | Most days         | No | No              | Leave  | 1978 | 40 | Female | 0.68583600 |  938 | 11 | Low Education    |\n",
       "| 4 | Austria | 11 | ES-ISCED IIIb, lower tier upper secondary | Every day         | No | No              | Remain | 1955 | 63 | Male   | 0.11675334 | 1998 | 74 | Medium Education |\n",
       "| 5 | Austria | 8  | ES-ISCED II, lower secondary              | Never             | No | No              | Remain | 1947 | 71 | Female | 0.31178924 |  601 | 99 | Low Education    |\n",
       "| 6 | Austria | 13 | ES-ISCED IIIb, lower tier upper secondary | Only occasionally | No | Yes, previously | Remain | 1954 | 64 | Male   | 0.17386711 |   68 | 77 | Medium Education |\n",
       "\n"
      ],
      "text/plain": [
       "  cntry   eduyrs eisced                                    netusoft         \n",
       "1 Austria 12     ES-ISCED IIIb, lower tier upper secondary Every day        \n",
       "2 Austria 12     ES-ISCED IIIb, lower tier upper secondary Every day        \n",
       "3 Austria 12     ES-ISCED II, lower secondary              Most days        \n",
       "4 Austria 11     ES-ISCED IIIb, lower tier upper secondary Every day        \n",
       "5 Austria 8      ES-ISCED II, lower secondary              Never            \n",
       "6 Austria 13     ES-ISCED IIIb, lower tier upper secondary Only occasionally\n",
       "  uemp3m mbtru           vteurmmb yrbrn agea gndr   anweight   psu  stratum\n",
       "1 No     No              Remain   1975  43   Male   0.06588958 1688 59     \n",
       "2 No     Yes, previously Remain   1951  67   Male   0.12490674   88 79     \n",
       "3 No     No              Leave    1978  40   Female 0.68583600  938 11     \n",
       "4 No     No              Remain   1955  63   Male   0.11675334 1998 74     \n",
       "5 No     No              Remain   1947  71   Female 0.31178924  601 99     \n",
       "6 No     Yes, previously Remain   1954  64   Male   0.17386711   68 77     \n",
       "  Education       \n",
       "1 Medium Education\n",
       "2 Medium Education\n",
       "3 Low Education   \n",
       "4 Medium Education\n",
       "5 Low Education   \n",
       "6 Medium Education"
      ]
     },
     "metadata": {},
     "output_type": "display_data"
    }
   ],
   "source": [
    "head(df_european_survey)"
   ]
  },
  {
   "cell_type": "markdown",
   "id": "frequent-method",
   "metadata": {},
   "source": [
    "<a id=\"3\"></a> <br>\n",
    "<font size=\"+3\" color=\"black\"><b>3 - Survey Weights</b></font><br><a id=\"3\"></a>\n",
    "<br> "
   ]
  },
  {
   "cell_type": "markdown",
   "id": "cooked-bleeding",
   "metadata": {},
   "source": [
    "\n",
    "\n",
    "The clustering variable in ESS is called ‘psu’, stratification is indicated by ‘stratum’, and weighting by ‘anweight’"
   ]
  },
  {
   "cell_type": "markdown",
   "id": "thirty-civilization",
   "metadata": {},
   "source": [
    "Details about how ESS weights the data can be found [here](https://www.europeansocialsurvey.org/docs/methodology/ESS_weighting_data_1_1.pdf)."
   ]
  },
  {
   "cell_type": "code",
   "execution_count": null,
   "id": "harmful-correction",
   "metadata": {},
   "outputs": [],
   "source": [
    "weighted_df_ess <- european_survey %>% as_survey_design(ids=psu, strata=stratum, weights=anweight)"
   ]
  },
  {
   "cell_type": "code",
   "execution_count": null,
   "id": "organized-water",
   "metadata": {},
   "outputs": [],
   "source": [
    "# Making a frequency table using a survey object\n",
    "#weighted_df_ess %>% group_by(cntry) %>% summarize(proportion=survey_mean(), total=survey_total())"
   ]
  },
  {
   "cell_type": "code",
   "execution_count": null,
   "id": "restricted-standing",
   "metadata": {},
   "outputs": [],
   "source": [
    "weighted_df_ess"
   ]
  },
  {
   "cell_type": "code",
   "execution_count": 78,
   "id": "parallel-publicity",
   "metadata": {
    "scrolled": false
   },
   "outputs": [
    {
     "data": {
      "text/plain": [
       "\n",
       "  High Education    Low Education Medium Education \n",
       "            0.24             0.25             0.51 "
      ]
     },
     "metadata": {},
     "output_type": "display_data"
    },
    {
     "data": {
      "text/plain": [
       "\n",
       "             Never  Only occasionally A few times a week          Most days \n",
       "              0.17               0.06               0.06               0.08 \n",
       "         Every day \n",
       "              0.64 "
      ]
     },
     "metadata": {},
     "output_type": "display_data"
    },
    {
     "data": {
      "text/plain": [
       "\n",
       " Leave Remain \n",
       "  0.13   0.87 "
      ]
     },
     "metadata": {},
     "output_type": "display_data"
    },
    {
     "data": {
      "text/plain": [
       "\n",
       "  No  Yes \n",
       "0.71 0.29 "
      ]
     },
     "metadata": {},
     "output_type": "display_data"
    },
    {
     "data": {
      "text/plain": [
       "\n",
       " No Yes \n",
       "0.6 0.4 "
      ]
     },
     "metadata": {},
     "output_type": "display_data"
    },
    {
     "data": {
      "text/html": [],
      "text/latex": [],
      "text/markdown": [],
      "text/plain": [
       "numeric(0)"
      ]
     },
     "metadata": {},
     "output_type": "display_data"
    }
   ],
   "source": [
    "round(prop.table(table(european_survey$Education)),2)\n",
    "round(prop.table(table(df_european_survey$netusoft)),2)\n",
    "round(prop.table(table(df_european_survey$vteurmmb)),2)\n",
    "round(prop.table(table(df_european_survey$uemp3m)),2)\n",
    "round(prop.table(table(df_european_survey$mbtru)),2)\n",
    "round(prop.table(table(df_european_survey$Age_Band)),2)"
   ]
  },
  {
   "cell_type": "markdown",
   "id": "referenced-glance",
   "metadata": {},
   "source": [
    "<a id=\"4\"></a> <br>\n",
    "<font size=\"+3\" color=\"black\"><b>4 - Data Exploration</b></font><br><a id=\"4\"></a>\n",
    "<br> "
   ]
  },
  {
   "cell_type": "code",
   "execution_count": null,
   "id": "scheduled-secretariat",
   "metadata": {},
   "outputs": [],
   "source": [
    "# Top 10 countries with the highest vote for Leave the UE (calculated by proportion of votes)\n",
    "df_european_survey %>% group_by(Country,gndr,vteurmmb) %>% \n",
    "    summarise(total = n()) %>% \n",
    "    mutate(freq = round(total / sum(total),2)) %>% \n",
    "    filter(vteurmmb == \"Leave\") %>% \n",
    "    arrange(desc(freq,total)) %>% \n",
    "    head(10)\n",
    "\n",
    "df_european_survey %>% group_by(Country,gndr,vteurmmb) %>% \n",
    "    summarise(total = n()) %>% \n",
    "    mutate(freq = round(total / sum(total),2)) %>% \n",
    "    filter(vteurmmb == \"Remain\") %>% \n",
    "    arrange(desc(freq,total)) %>% \n",
    "    head(10)"
   ]
  },
  {
   "cell_type": "code",
   "execution_count": null,
   "id": "contained-optimization",
   "metadata": {},
   "outputs": [],
   "source": [
    "# Top 10 countries with the highest Unemployment rate (calculated by proportion of votes)\n",
    "df_european_survey %>% group_by(Country,uemp3m) %>% \n",
    "    summarise(total = n()) %>% \n",
    "    mutate(freq = round(total / sum(total),2)) %>% \n",
    "    filter(uemp3m == \"Yes\") %>% \n",
    "    arrange(desc(freq,total)) %>% \n",
    "    head(10)\n",
    "\n",
    "df_european_survey %>% group_by(Country,uemp3m) %>% \n",
    "    summarise(total = n()) %>% \n",
    "    mutate(freq = round(total / sum(total),2)) %>% \n",
    "    filter(uemp3m == \"No\") %>% \n",
    "    arrange(desc(freq,total)) %>% \n",
    "    head(10)"
   ]
  },
  {
   "cell_type": "code",
   "execution_count": null,
   "id": "copyrighted-french",
   "metadata": {},
   "outputs": [],
   "source": [
    "# Top 5 countries with the highest Union membership\n",
    "df_european_survey %>% group_by(Country,mbtru) %>% \n",
    "    summarise(total = n()) %>% \n",
    "    mutate(freq = round(total / sum(total),2)) %>% \n",
    "    filter(mbtru == \"Yes\") %>% \n",
    "    arrange(desc(freq,total)) %>% \n",
    "    head(5)"
   ]
  },
  {
   "cell_type": "code",
   "execution_count": null,
   "id": "serious-cisco",
   "metadata": {},
   "outputs": [],
   "source": [
    "# Top 5 countries with the lowest Union membership\n",
    "df_european_survey %>% group_by(Country,mbtru) %>% \n",
    "    summarise(total = n()) %>% \n",
    "    mutate(freq = round(total / sum(total),2)) %>% \n",
    "    filter(mbtru == \"No\") %>% \n",
    "    arrange(desc(freq,total)) %>% \n",
    "    head(5)"
   ]
  },
  {
   "cell_type": "code",
   "execution_count": null,
   "id": "informal-evidence",
   "metadata": {},
   "outputs": [],
   "source": []
  },
  {
   "cell_type": "code",
   "execution_count": null,
   "id": "integral-component",
   "metadata": {},
   "outputs": [],
   "source": []
  },
  {
   "cell_type": "code",
   "execution_count": null,
   "id": "certified-integration",
   "metadata": {},
   "outputs": [],
   "source": []
  },
  {
   "cell_type": "code",
   "execution_count": null,
   "id": "aerial-enemy",
   "metadata": {},
   "outputs": [],
   "source": [
    "df_european_survey %>% group_by(Country) %>% filter(vteurmmb == \"Leave\") %>% summarise(n= n()) %>% head(10) %>%\n",
    "  ggplot(aes(x=reorder(Country, n), y=n)) + \n",
    "  geom_bar(position=\"dodge\",stat=\"identity\", width = .7) +\n",
    "  scale_fill_brewer(palette='Set2') +\n",
    "  labs(x = \"Country\",\n",
    "       y = \"Voted to Leave the EU\",\n",
    "       fill = \"Vote\",\n",
    "       title = \"Top 10 Countries with the highest votes for Leave\") +\n",
    "         theme_minimal() + coord_flip()"
   ]
  },
  {
   "cell_type": "code",
   "execution_count": null,
   "id": "dietary-trading",
   "metadata": {
    "scrolled": false
   },
   "outputs": [],
   "source": [
    "df_european_survey %>%\n",
    "  mutate(Age_Band = factor(Age_Band, levels=c(\"<20\", \"20-39\", \"40-65\", \">65\"))) %>%\n",
    "  ggplot(aes(x=Age_Band)) + \n",
    "  geom_bar(aes(fill=vteurmmb), stat=\"count\", width = .6) +\n",
    "  scale_fill_brewer(palette='Set2') +\n",
    "  labs( x = \"Age Band\",\n",
    "        y = \"\",\n",
    "        fill = \"Vote\",\n",
    "        title = \" Proportion of votes based on Age band\") + theme_minimal() +\n",
    "  theme(plot.title=element_text(vjust=.5,family='', face='bold', colour='#636363', size=20))"
   ]
  },
  {
   "cell_type": "code",
   "execution_count": null,
   "id": "peripheral-struggle",
   "metadata": {},
   "outputs": [],
   "source": [
    "df_european_survey %>%\n",
    "  ggplot(aes(x=gndr)) + \n",
    "  geom_bar(aes(fill=vteurmmb), stat=\"count\", width = .4) +\n",
    "  scale_fill_brewer(palette='Set2') +\n",
    "  labs( x = \"Gender\",\n",
    "        y = \"\",\n",
    "        fill = \"Vote\",\n",
    "        title = \" Proportion of votes based on Gender\") + theme_minimal() +\n",
    "  theme(plot.title=element_text(vjust=.5,family='', face='bold', colour='#636363', size=20))"
   ]
  },
  {
   "cell_type": "markdown",
   "id": "fleet-usage",
   "metadata": {},
   "source": [
    "<a id=\"5\"></a> <br>\n",
    "<font size=\"+3\" color=\"black\"><b>5 - Previous Iterations</b></font><br><a id=\"5\"></a>\n",
    "<br> "
   ]
  },
  {
   "cell_type": "markdown",
   "id": "dominican-winter",
   "metadata": {},
   "source": [
    "__Alternative for Proportion of votes__: Tried to a stacked bar graph but because Age <20 there is not much data it does not present well so I've switched Age and Vote"
   ]
  },
  {
   "cell_type": "code",
   "execution_count": null,
   "id": "excess-inquiry",
   "metadata": {},
   "outputs": [],
   "source": [
    "df_european_survey %>%\n",
    "  ggplot(aes(x=vteurmmb)) + \n",
    "  geom_bar(aes(fill=Age_Band), stat=\"count\", width = .6) +\n",
    "  scale_fill_brewer(palette='Set2') +\n",
    "  labs( x = \"Age Band\",\n",
    "        y = \"\",\n",
    "        fill = \"Age Band\",\n",
    "        title = \" Proportion of votes based on Age band\") + theme_minimal() +\n",
    "  theme(plot.title=element_text(vjust=.5,family='', face='bold', colour='#636363', size=20))"
   ]
  },
  {
   "cell_type": "code",
   "execution_count": null,
   "id": "discrete-corporation",
   "metadata": {},
   "outputs": [],
   "source": []
  }
 ],
 "metadata": {
  "kernelspec": {
   "display_name": "R",
   "language": "R",
   "name": "ir"
  },
  "language_info": {
   "codemirror_mode": "r",
   "file_extension": ".r",
   "mimetype": "text/x-r-source",
   "name": "R",
   "pygments_lexer": "r",
   "version": "4.0.2"
  }
 },
 "nbformat": 4,
 "nbformat_minor": 5
}
