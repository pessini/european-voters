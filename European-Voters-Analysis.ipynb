{
 "cells": [
  {
   "cell_type": "markdown",
   "id": "automotive-league",
   "metadata": {},
   "source": [
    "# Examining socio-demographic factors that influence in European voters"
   ]
  },
  {
   "cell_type": "markdown",
   "id": "understood-cannon",
   "metadata": {},
   "source": [
    "## Leave or remain in the European Union? "
   ]
  },
  {
   "cell_type": "markdown",
   "id": "prerequisite-wrong",
   "metadata": {},
   "source": [
    "<img src='https://static.dezeen.com/uploads/2021/02/brexit-designers-cost-admin_dezeen_2364_col_1-2048x1152.jpg' style='height:400px'>"
   ]
  },
  {
   "cell_type": "markdown",
   "id": "considerable-battle",
   "metadata": {},
   "source": [
    "<div class=\"list-group\" id=\"list-tab\" role=\"tablist\">\n",
    "  <h1 class=\"list-group-item list-group-item-action active\" data-toggle=\"list\"  role=\"tab\" aria-controls=\"home\">&nbsp;Table of Contents:</h1>\n",
    "  <a class=\"list-group-item list-group-item-action\" data-toggle=\"list\" href=\"#1\" role=\"tab\" aria-controls=\"profile\">1. Introduction<span class=\"badge badge-primary badge-pill\">1</span></a>\n",
    "  <a class=\"list-group-item list-group-item-action\" data-toggle=\"list\" href=\"#2\" role=\"tab\" aria-controls=\"messages\">2. Dataset<span class=\"badge badge-primary badge-pill\">2</span></a>\n",
    "   <a class=\"list-group-item list-group-item-action\" data-toggle=\"list\" href=\"#3\" role=\"tab\" aria-controls=\"messages\">3. Data Exploration<span class=\"badge badge-primary badge-pill\">3</span></a>\n",
    "   <a class=\"list-group-item list-group-item-action\" data-toggle=\"list\" href=\"#4\" role=\"tab\" aria-controls=\"messages\">4. Data Visualisation<span class=\"badge badge-primary badge-pill\">4</span></a>    <a class=\"list-group-item list-group-item-action\" data-toggle=\"list\" href=\"#5\" role=\"tab\" aria-controls=\"messages\">5. Conclusion<span class=\"badge badge-primary badge-pill\">5</span></a>\n",
    "</div>"
   ]
  },
  {
   "cell_type": "markdown",
   "id": "announced-robertson",
   "metadata": {},
   "source": [
    "## Introduction"
   ]
  },
  {
   "cell_type": "markdown",
   "id": "banned-solid",
   "metadata": {},
   "source": [
    "There is a R package for the ESS project which allows download data [essurvey](https://docs.ropensci.org/essurvey/)"
   ]
  },
  {
   "cell_type": "code",
   "execution_count": 4,
   "id": "imposed-material",
   "metadata": {},
   "outputs": [
    {
     "name": "stderr",
     "output_type": "stream",
     "text": [
      "\n",
      "Attaching package: ‘dplyr’\n",
      "\n",
      "\n",
      "The following objects are masked from ‘package:stats’:\n",
      "\n",
      "    filter, lag\n",
      "\n",
      "\n",
      "The following objects are masked from ‘package:base’:\n",
      "\n",
      "    intersect, setdiff, setequal, union\n",
      "\n",
      "\n"
     ]
    }
   ],
   "source": [
    "#install.packages(\"essurvey\")\n",
    "library(essurvey)\n",
    "library(dplyr)\n",
    "set_email(\"pessini.leandro@gmail.com\")"
   ]
  },
  {
   "cell_type": "code",
   "execution_count": 5,
   "id": "passive-essence",
   "metadata": {},
   "outputs": [
    {
     "data": {
      "text/html": [
       "<style>\n",
       ".list-inline {list-style: none; margin:0; padding: 0}\n",
       ".list-inline>li {display: inline-block}\n",
       ".list-inline>li:not(:last-child)::after {content: \"\\00b7\"; padding: 0 .5ex}\n",
       "</style>\n",
       "<ol class=list-inline><li>'Albania'</li><li>'Austria'</li><li>'Belgium'</li><li>'Bulgaria'</li><li>'Croatia'</li><li>'Cyprus'</li><li>'Czechia'</li><li>'Denmark'</li><li>'Estonia'</li><li>'Finland'</li><li>'France'</li><li>'Germany'</li><li>'Greece'</li><li>'Hungary'</li><li>'Iceland'</li><li>'Ireland'</li><li>'Israel'</li><li>'Italy'</li><li>'Kosovo'</li><li>'Latvia'</li><li>'Lithuania'</li><li>'Luxembourg'</li><li>'Montenegro'</li><li>'Netherlands'</li><li>'Norway'</li><li>'Poland'</li><li>'Portugal'</li><li>'Romania'</li><li>'Russian Federation'</li><li>'Serbia'</li><li>'Slovakia'</li><li>'Slovenia'</li><li>'Spain'</li><li>'Sweden'</li><li>'Switzerland'</li><li>'Turkey'</li><li>'Ukraine'</li><li>'United Kingdom'</li></ol>\n"
      ],
      "text/latex": [
       "\\begin{enumerate*}\n",
       "\\item 'Albania'\n",
       "\\item 'Austria'\n",
       "\\item 'Belgium'\n",
       "\\item 'Bulgaria'\n",
       "\\item 'Croatia'\n",
       "\\item 'Cyprus'\n",
       "\\item 'Czechia'\n",
       "\\item 'Denmark'\n",
       "\\item 'Estonia'\n",
       "\\item 'Finland'\n",
       "\\item 'France'\n",
       "\\item 'Germany'\n",
       "\\item 'Greece'\n",
       "\\item 'Hungary'\n",
       "\\item 'Iceland'\n",
       "\\item 'Ireland'\n",
       "\\item 'Israel'\n",
       "\\item 'Italy'\n",
       "\\item 'Kosovo'\n",
       "\\item 'Latvia'\n",
       "\\item 'Lithuania'\n",
       "\\item 'Luxembourg'\n",
       "\\item 'Montenegro'\n",
       "\\item 'Netherlands'\n",
       "\\item 'Norway'\n",
       "\\item 'Poland'\n",
       "\\item 'Portugal'\n",
       "\\item 'Romania'\n",
       "\\item 'Russian Federation'\n",
       "\\item 'Serbia'\n",
       "\\item 'Slovakia'\n",
       "\\item 'Slovenia'\n",
       "\\item 'Spain'\n",
       "\\item 'Sweden'\n",
       "\\item 'Switzerland'\n",
       "\\item 'Turkey'\n",
       "\\item 'Ukraine'\n",
       "\\item 'United Kingdom'\n",
       "\\end{enumerate*}\n"
      ],
      "text/markdown": [
       "1. 'Albania'\n",
       "2. 'Austria'\n",
       "3. 'Belgium'\n",
       "4. 'Bulgaria'\n",
       "5. 'Croatia'\n",
       "6. 'Cyprus'\n",
       "7. 'Czechia'\n",
       "8. 'Denmark'\n",
       "9. 'Estonia'\n",
       "10. 'Finland'\n",
       "11. 'France'\n",
       "12. 'Germany'\n",
       "13. 'Greece'\n",
       "14. 'Hungary'\n",
       "15. 'Iceland'\n",
       "16. 'Ireland'\n",
       "17. 'Israel'\n",
       "18. 'Italy'\n",
       "19. 'Kosovo'\n",
       "20. 'Latvia'\n",
       "21. 'Lithuania'\n",
       "22. 'Luxembourg'\n",
       "23. 'Montenegro'\n",
       "24. 'Netherlands'\n",
       "25. 'Norway'\n",
       "26. 'Poland'\n",
       "27. 'Portugal'\n",
       "28. 'Romania'\n",
       "29. 'Russian Federation'\n",
       "30. 'Serbia'\n",
       "31. 'Slovakia'\n",
       "32. 'Slovenia'\n",
       "33. 'Spain'\n",
       "34. 'Sweden'\n",
       "35. 'Switzerland'\n",
       "36. 'Turkey'\n",
       "37. 'Ukraine'\n",
       "38. 'United Kingdom'\n",
       "\n",
       "\n"
      ],
      "text/plain": [
       " [1] \"Albania\"            \"Austria\"            \"Belgium\"           \n",
       " [4] \"Bulgaria\"           \"Croatia\"            \"Cyprus\"            \n",
       " [7] \"Czechia\"            \"Denmark\"            \"Estonia\"           \n",
       "[10] \"Finland\"            \"France\"             \"Germany\"           \n",
       "[13] \"Greece\"             \"Hungary\"            \"Iceland\"           \n",
       "[16] \"Ireland\"            \"Israel\"             \"Italy\"             \n",
       "[19] \"Kosovo\"             \"Latvia\"             \"Lithuania\"         \n",
       "[22] \"Luxembourg\"         \"Montenegro\"         \"Netherlands\"       \n",
       "[25] \"Norway\"             \"Poland\"             \"Portugal\"          \n",
       "[28] \"Romania\"            \"Russian Federation\" \"Serbia\"            \n",
       "[31] \"Slovakia\"           \"Slovenia\"           \"Spain\"             \n",
       "[34] \"Sweden\"             \"Switzerland\"        \"Turkey\"            \n",
       "[37] \"Ukraine\"            \"United Kingdom\"    "
      ]
     },
     "metadata": {},
     "output_type": "display_data"
    }
   ],
   "source": [
    "show_countries()"
   ]
  },
  {
   "cell_type": "code",
   "execution_count": 6,
   "id": "departmental-profile",
   "metadata": {},
   "outputs": [
    {
     "data": {
      "text/html": [
       "<style>\n",
       ".list-inline {list-style: none; margin:0; padding: 0}\n",
       ".list-inline>li {display: inline-block}\n",
       ".list-inline>li:not(:last-child)::after {content: \"\\00b7\"; padding: 0 .5ex}\n",
       "</style>\n",
       "<ol class=list-inline><li>1</li><li>2</li><li>3</li><li>4</li><li>5</li><li>6</li><li>7</li><li>8</li><li>9</li></ol>\n"
      ],
      "text/latex": [
       "\\begin{enumerate*}\n",
       "\\item 1\n",
       "\\item 2\n",
       "\\item 3\n",
       "\\item 4\n",
       "\\item 5\n",
       "\\item 6\n",
       "\\item 7\n",
       "\\item 8\n",
       "\\item 9\n",
       "\\end{enumerate*}\n"
      ],
      "text/markdown": [
       "1. 1\n",
       "2. 2\n",
       "3. 3\n",
       "4. 4\n",
       "5. 5\n",
       "6. 6\n",
       "7. 7\n",
       "8. 8\n",
       "9. 9\n",
       "\n",
       "\n"
      ],
      "text/plain": [
       "[1] 1 2 3 4 5 6 7 8 9"
      ]
     },
     "metadata": {},
     "output_type": "display_data"
    }
   ],
   "source": [
    "show_rounds()"
   ]
  },
  {
   "cell_type": "code",
   "execution_count": 7,
   "id": "saved-knock",
   "metadata": {},
   "outputs": [
    {
     "name": "stderr",
     "output_type": "stream",
     "text": [
      "Downloading ESS9\n",
      "\n"
     ]
    },
    {
     "name": "stdout",
     "output_type": "stream",
     "text": [
      "  |======================================================================| 100%\n"
     ]
    },
    {
     "name": "stderr",
     "output_type": "stream",
     "text": [
      "Warning message:\n",
      "“Round 9  was read with the `foreign` package rather than with  the `haven` package for compatibility reasons.\n",
      " Please report any issues at https://github.com/ropensci/essurvey/issues”\n"
     ]
    }
   ],
   "source": [
    "# Importing data - Selecting Round 9 which is the data from 2018\n",
    "ess_data <- import_rounds(9) %>% recode_missings()"
   ]
  },
  {
   "cell_type": "code",
   "execution_count": 8,
   "id": "sound-nicholas",
   "metadata": {},
   "outputs": [
    {
     "data": {
      "text/html": [
       "<table>\n",
       "<caption>A tibble: 6 × 572</caption>\n",
       "<thead>\n",
       "\t<tr><th scope=col>name</th><th scope=col>essround</th><th scope=col>edition</th><th scope=col>proddate</th><th scope=col>idno</th><th scope=col>cntry</th><th scope=col>nwspol</th><th scope=col>netusoft</th><th scope=col>netustm</th><th scope=col>ppltrst</th><th scope=col>⋯</th><th scope=col>inwemm</th><th scope=col>inwtm</th><th scope=col>dweight</th><th scope=col>pspwght</th><th scope=col>pweight</th><th scope=col>anweight</th><th scope=col>domain</th><th scope=col>prob</th><th scope=col>stratum</th><th scope=col>psu</th></tr>\n",
       "\t<tr><th scope=col>&lt;chr&gt;</th><th scope=col>&lt;int&gt;</th><th scope=col>&lt;chr&gt;</th><th scope=col>&lt;chr&gt;</th><th scope=col>&lt;int&gt;</th><th scope=col>&lt;chr&gt;</th><th scope=col>&lt;int&gt;</th><th scope=col>&lt;fct&gt;</th><th scope=col>&lt;int&gt;</th><th scope=col>&lt;fct&gt;</th><th scope=col>⋯</th><th scope=col>&lt;int&gt;</th><th scope=col>&lt;int&gt;</th><th scope=col>&lt;dbl&gt;</th><th scope=col>&lt;dbl&gt;</th><th scope=col>&lt;dbl&gt;</th><th scope=col>&lt;dbl&gt;</th><th scope=col>&lt;int&gt;</th><th scope=col>&lt;dbl&gt;</th><th scope=col>&lt;int&gt;</th><th scope=col>&lt;int&gt;</th></tr>\n",
       "</thead>\n",
       "<tbody>\n",
       "\t<tr><td>ESS9e03_1</td><td>9</td><td>3.1</td><td>17.02.2021</td><td> 27</td><td>AT</td><td>60</td><td>Every day        </td><td>180</td><td>2</td><td>⋯</td><td> 7</td><td> 46</td><td>0.5811743</td><td>0.2181114</td><td>0.3020914</td><td>0.06588958</td><td>2</td><td>0.0011755485</td><td>59</td><td>1688</td></tr>\n",
       "\t<tr><td>ESS9e03_1</td><td>9</td><td>3.1</td><td>17.02.2021</td><td>137</td><td>AT</td><td>10</td><td>Every day        </td><td> 20</td><td>7</td><td>⋯</td><td> 6</td><td> 73</td><td>1.0627724</td><td>0.4134733</td><td>0.3020914</td><td>0.12490674</td><td>2</td><td>0.0006428456</td><td>79</td><td>  88</td></tr>\n",
       "\t<tr><td>ESS9e03_1</td><td>9</td><td>3.1</td><td>17.02.2021</td><td>194</td><td>AT</td><td>60</td><td>Most days        </td><td>180</td><td>5</td><td>⋯</td><td>48</td><td> 92</td><td>1.3765086</td><td>2.2702928</td><td>0.3020914</td><td>0.68583600</td><td>2</td><td>0.0004963272</td><td>11</td><td> 938</td></tr>\n",
       "\t<tr><td>ESS9e03_1</td><td>9</td><td>3.1</td><td>17.02.2021</td><td>208</td><td>AT</td><td>45</td><td>Every day        </td><td>120</td><td>3</td><td>⋯</td><td>49</td><td>134</td><td>0.9933993</td><td>0.3864834</td><td>0.3020914</td><td>0.11675334</td><td>2</td><td>0.0006877382</td><td>74</td><td>1998</td></tr>\n",
       "\t<tr><td>ESS9e03_1</td><td>9</td><td>3.1</td><td>17.02.2021</td><td>220</td><td>AT</td><td>30</td><td>Never            </td><td> NA</td><td>5</td><td>⋯</td><td>39</td><td> 40</td><td>0.3773534</td><td>1.0321022</td><td>0.3020914</td><td>0.31178924</td><td>2</td><td>0.0018105009</td><td>99</td><td> 601</td></tr>\n",
       "\t<tr><td>ESS9e03_1</td><td>9</td><td>3.1</td><td>17.02.2021</td><td>254</td><td>AT</td><td>45</td><td>Only occasionally</td><td> NA</td><td>8</td><td>⋯</td><td>12</td><td> 52</td><td>1.4793528</td><td>0.5755447</td><td>0.3020914</td><td>0.17386711</td><td>2</td><td>0.0004618227</td><td>77</td><td>  68</td></tr>\n",
       "</tbody>\n",
       "</table>\n"
      ],
      "text/latex": [
       "A tibble: 6 × 572\n",
       "\\begin{tabular}{lllllllllllllllllllll}\n",
       " name & essround & edition & proddate & idno & cntry & nwspol & netusoft & netustm & ppltrst & ⋯ & inwemm & inwtm & dweight & pspwght & pweight & anweight & domain & prob & stratum & psu\\\\\n",
       " <chr> & <int> & <chr> & <chr> & <int> & <chr> & <int> & <fct> & <int> & <fct> & ⋯ & <int> & <int> & <dbl> & <dbl> & <dbl> & <dbl> & <int> & <dbl> & <int> & <int>\\\\\n",
       "\\hline\n",
       "\t ESS9e03\\_1 & 9 & 3.1 & 17.02.2021 &  27 & AT & 60 & Every day         & 180 & 2 & ⋯ &  7 &  46 & 0.5811743 & 0.2181114 & 0.3020914 & 0.06588958 & 2 & 0.0011755485 & 59 & 1688\\\\\n",
       "\t ESS9e03\\_1 & 9 & 3.1 & 17.02.2021 & 137 & AT & 10 & Every day         &  20 & 7 & ⋯ &  6 &  73 & 1.0627724 & 0.4134733 & 0.3020914 & 0.12490674 & 2 & 0.0006428456 & 79 &   88\\\\\n",
       "\t ESS9e03\\_1 & 9 & 3.1 & 17.02.2021 & 194 & AT & 60 & Most days         & 180 & 5 & ⋯ & 48 &  92 & 1.3765086 & 2.2702928 & 0.3020914 & 0.68583600 & 2 & 0.0004963272 & 11 &  938\\\\\n",
       "\t ESS9e03\\_1 & 9 & 3.1 & 17.02.2021 & 208 & AT & 45 & Every day         & 120 & 3 & ⋯ & 49 & 134 & 0.9933993 & 0.3864834 & 0.3020914 & 0.11675334 & 2 & 0.0006877382 & 74 & 1998\\\\\n",
       "\t ESS9e03\\_1 & 9 & 3.1 & 17.02.2021 & 220 & AT & 30 & Never             &  NA & 5 & ⋯ & 39 &  40 & 0.3773534 & 1.0321022 & 0.3020914 & 0.31178924 & 2 & 0.0018105009 & 99 &  601\\\\\n",
       "\t ESS9e03\\_1 & 9 & 3.1 & 17.02.2021 & 254 & AT & 45 & Only occasionally &  NA & 8 & ⋯ & 12 &  52 & 1.4793528 & 0.5755447 & 0.3020914 & 0.17386711 & 2 & 0.0004618227 & 77 &   68\\\\\n",
       "\\end{tabular}\n"
      ],
      "text/markdown": [
       "\n",
       "A tibble: 6 × 572\n",
       "\n",
       "| name &lt;chr&gt; | essround &lt;int&gt; | edition &lt;chr&gt; | proddate &lt;chr&gt; | idno &lt;int&gt; | cntry &lt;chr&gt; | nwspol &lt;int&gt; | netusoft &lt;fct&gt; | netustm &lt;int&gt; | ppltrst &lt;fct&gt; | ⋯ ⋯ | inwemm &lt;int&gt; | inwtm &lt;int&gt; | dweight &lt;dbl&gt; | pspwght &lt;dbl&gt; | pweight &lt;dbl&gt; | anweight &lt;dbl&gt; | domain &lt;int&gt; | prob &lt;dbl&gt; | stratum &lt;int&gt; | psu &lt;int&gt; |\n",
       "|---|---|---|---|---|---|---|---|---|---|---|---|---|---|---|---|---|---|---|---|---|\n",
       "| ESS9e03_1 | 9 | 3.1 | 17.02.2021 |  27 | AT | 60 | Every day         | 180 | 2 | ⋯ |  7 |  46 | 0.5811743 | 0.2181114 | 0.3020914 | 0.06588958 | 2 | 0.0011755485 | 59 | 1688 |\n",
       "| ESS9e03_1 | 9 | 3.1 | 17.02.2021 | 137 | AT | 10 | Every day         |  20 | 7 | ⋯ |  6 |  73 | 1.0627724 | 0.4134733 | 0.3020914 | 0.12490674 | 2 | 0.0006428456 | 79 |   88 |\n",
       "| ESS9e03_1 | 9 | 3.1 | 17.02.2021 | 194 | AT | 60 | Most days         | 180 | 5 | ⋯ | 48 |  92 | 1.3765086 | 2.2702928 | 0.3020914 | 0.68583600 | 2 | 0.0004963272 | 11 |  938 |\n",
       "| ESS9e03_1 | 9 | 3.1 | 17.02.2021 | 208 | AT | 45 | Every day         | 120 | 3 | ⋯ | 49 | 134 | 0.9933993 | 0.3864834 | 0.3020914 | 0.11675334 | 2 | 0.0006877382 | 74 | 1998 |\n",
       "| ESS9e03_1 | 9 | 3.1 | 17.02.2021 | 220 | AT | 30 | Never             |  NA | 5 | ⋯ | 39 |  40 | 0.3773534 | 1.0321022 | 0.3020914 | 0.31178924 | 2 | 0.0018105009 | 99 |  601 |\n",
       "| ESS9e03_1 | 9 | 3.1 | 17.02.2021 | 254 | AT | 45 | Only occasionally |  NA | 8 | ⋯ | 12 |  52 | 1.4793528 | 0.5755447 | 0.3020914 | 0.17386711 | 2 | 0.0004618227 | 77 |   68 |\n",
       "\n"
      ],
      "text/plain": [
       "  name      essround edition proddate   idno cntry nwspol netusoft         \n",
       "1 ESS9e03_1 9        3.1     17.02.2021  27  AT    60     Every day        \n",
       "2 ESS9e03_1 9        3.1     17.02.2021 137  AT    10     Every day        \n",
       "3 ESS9e03_1 9        3.1     17.02.2021 194  AT    60     Most days        \n",
       "4 ESS9e03_1 9        3.1     17.02.2021 208  AT    45     Every day        \n",
       "5 ESS9e03_1 9        3.1     17.02.2021 220  AT    30     Never            \n",
       "6 ESS9e03_1 9        3.1     17.02.2021 254  AT    45     Only occasionally\n",
       "  netustm ppltrst ⋯ inwemm inwtm dweight   pspwght   pweight   anweight  \n",
       "1 180     2       ⋯  7      46   0.5811743 0.2181114 0.3020914 0.06588958\n",
       "2  20     7       ⋯  6      73   1.0627724 0.4134733 0.3020914 0.12490674\n",
       "3 180     5       ⋯ 48      92   1.3765086 2.2702928 0.3020914 0.68583600\n",
       "4 120     3       ⋯ 49     134   0.9933993 0.3864834 0.3020914 0.11675334\n",
       "5  NA     5       ⋯ 39      40   0.3773534 1.0321022 0.3020914 0.31178924\n",
       "6  NA     8       ⋯ 12      52   1.4793528 0.5755447 0.3020914 0.17386711\n",
       "  domain prob         stratum psu \n",
       "1 2      0.0011755485 59      1688\n",
       "2 2      0.0006428456 79        88\n",
       "3 2      0.0004963272 11       938\n",
       "4 2      0.0006877382 74      1998\n",
       "5 2      0.0018105009 99       601\n",
       "6 2      0.0004618227 77        68"
      ]
     },
     "metadata": {},
     "output_type": "display_data"
    }
   ],
   "source": [
    "head(ess_data)"
   ]
  },
  {
   "cell_type": "code",
   "execution_count": 59,
   "id": "sustainable-voice",
   "metadata": {},
   "outputs": [],
   "source": [
    "european_survey <- ess_data[,c(\"cntry\", \"eduyrs\", \"uemp3m\", \"emplrel\", \"mbtru\", \"vteurmmb\", \"yrbrn\", \"agea\", \"gndr\")]"
   ]
  },
  {
   "cell_type": "code",
   "execution_count": 60,
   "id": "russian-savage",
   "metadata": {},
   "outputs": [
    {
     "data": {
      "text/html": [
       "<table>\n",
       "<caption>A tibble: 6 × 9</caption>\n",
       "<thead>\n",
       "\t<tr><th scope=col>cntry</th><th scope=col>eduyrs</th><th scope=col>uemp3m</th><th scope=col>emplrel</th><th scope=col>mbtru</th><th scope=col>vteurmmb</th><th scope=col>yrbrn</th><th scope=col>agea</th><th scope=col>gndr</th></tr>\n",
       "\t<tr><th scope=col>&lt;chr&gt;</th><th scope=col>&lt;int&gt;</th><th scope=col>&lt;fct&gt;</th><th scope=col>&lt;fct&gt;</th><th scope=col>&lt;fct&gt;</th><th scope=col>&lt;fct&gt;</th><th scope=col>&lt;int&gt;</th><th scope=col>&lt;int&gt;</th><th scope=col>&lt;fct&gt;</th></tr>\n",
       "</thead>\n",
       "<tbody>\n",
       "\t<tr><td>AT</td><td>12</td><td>No</td><td>Employee     </td><td>No             </td><td>Remain member of the European Union</td><td>1975</td><td>43</td><td>Male  </td></tr>\n",
       "\t<tr><td>AT</td><td>12</td><td>No</td><td>Employee     </td><td>Yes, previously</td><td>Remain member of the European Union</td><td>1951</td><td>67</td><td>Male  </td></tr>\n",
       "\t<tr><td>AT</td><td>12</td><td>No</td><td>Employee     </td><td>No             </td><td>Leave the European Union           </td><td>1978</td><td>40</td><td>Female</td></tr>\n",
       "\t<tr><td>AT</td><td>11</td><td>No</td><td>Self-employed</td><td>No             </td><td>Remain member of the European Union</td><td>1955</td><td>63</td><td>Male  </td></tr>\n",
       "\t<tr><td>AT</td><td> 8</td><td>No</td><td>Self-employed</td><td>No             </td><td>Remain member of the European Union</td><td>1947</td><td>71</td><td>Female</td></tr>\n",
       "\t<tr><td>AT</td><td>13</td><td>No</td><td>Employee     </td><td>Yes, previously</td><td>Remain member of the European Union</td><td>1954</td><td>64</td><td>Male  </td></tr>\n",
       "</tbody>\n",
       "</table>\n"
      ],
      "text/latex": [
       "A tibble: 6 × 9\n",
       "\\begin{tabular}{lllllllll}\n",
       " cntry & eduyrs & uemp3m & emplrel & mbtru & vteurmmb & yrbrn & agea & gndr\\\\\n",
       " <chr> & <int> & <fct> & <fct> & <fct> & <fct> & <int> & <int> & <fct>\\\\\n",
       "\\hline\n",
       "\t AT & 12 & No & Employee      & No              & Remain member of the European Union & 1975 & 43 & Male  \\\\\n",
       "\t AT & 12 & No & Employee      & Yes, previously & Remain member of the European Union & 1951 & 67 & Male  \\\\\n",
       "\t AT & 12 & No & Employee      & No              & Leave the European Union            & 1978 & 40 & Female\\\\\n",
       "\t AT & 11 & No & Self-employed & No              & Remain member of the European Union & 1955 & 63 & Male  \\\\\n",
       "\t AT &  8 & No & Self-employed & No              & Remain member of the European Union & 1947 & 71 & Female\\\\\n",
       "\t AT & 13 & No & Employee      & Yes, previously & Remain member of the European Union & 1954 & 64 & Male  \\\\\n",
       "\\end{tabular}\n"
      ],
      "text/markdown": [
       "\n",
       "A tibble: 6 × 9\n",
       "\n",
       "| cntry &lt;chr&gt; | eduyrs &lt;int&gt; | uemp3m &lt;fct&gt; | emplrel &lt;fct&gt; | mbtru &lt;fct&gt; | vteurmmb &lt;fct&gt; | yrbrn &lt;int&gt; | agea &lt;int&gt; | gndr &lt;fct&gt; |\n",
       "|---|---|---|---|---|---|---|---|---|\n",
       "| AT | 12 | No | Employee      | No              | Remain member of the European Union | 1975 | 43 | Male   |\n",
       "| AT | 12 | No | Employee      | Yes, previously | Remain member of the European Union | 1951 | 67 | Male   |\n",
       "| AT | 12 | No | Employee      | No              | Leave the European Union            | 1978 | 40 | Female |\n",
       "| AT | 11 | No | Self-employed | No              | Remain member of the European Union | 1955 | 63 | Male   |\n",
       "| AT |  8 | No | Self-employed | No              | Remain member of the European Union | 1947 | 71 | Female |\n",
       "| AT | 13 | No | Employee      | Yes, previously | Remain member of the European Union | 1954 | 64 | Male   |\n",
       "\n"
      ],
      "text/plain": [
       "  cntry eduyrs uemp3m emplrel       mbtru          \n",
       "1 AT    12     No     Employee      No             \n",
       "2 AT    12     No     Employee      Yes, previously\n",
       "3 AT    12     No     Employee      No             \n",
       "4 AT    11     No     Self-employed No             \n",
       "5 AT     8     No     Self-employed No             \n",
       "6 AT    13     No     Employee      Yes, previously\n",
       "  vteurmmb                            yrbrn agea gndr  \n",
       "1 Remain member of the European Union 1975  43   Male  \n",
       "2 Remain member of the European Union 1951  67   Male  \n",
       "3 Leave the European Union            1978  40   Female\n",
       "4 Remain member of the European Union 1955  63   Male  \n",
       "5 Remain member of the European Union 1947  71   Female\n",
       "6 Remain member of the European Union 1954  64   Male  "
      ]
     },
     "metadata": {},
     "output_type": "display_data"
    }
   ],
   "source": [
    "head(european_survey)"
   ]
  },
  {
   "cell_type": "code",
   "execution_count": 49,
   "id": "equivalent-group",
   "metadata": {},
   "outputs": [
    {
     "data": {
      "text/html": [
       "49519"
      ],
      "text/latex": [
       "49519"
      ],
      "text/markdown": [
       "49519"
      ],
      "text/plain": [
       "[1] 49519"
      ]
     },
     "metadata": {},
     "output_type": "display_data"
    }
   ],
   "source": [
    "nrow(european_survey)"
   ]
  },
  {
   "cell_type": "markdown",
   "id": "occupational-harvest",
   "metadata": {},
   "source": [
    "## Data Dictionary\n",
    "\n",
    "- __CNTRY__ Country\n",
    "- __EDUYRS__ Years of full-time education completed\n",
    "- __UEMP3M__ Ever unemployed and seeking work for a period more than three months\n",
    "- __EMPLREL__ Employment relation\n",
    "- __MBTRU__ Member of trade union or similar organisation\n",
    "- __VTEURMMB__ Would vote for your country to remain member of European Union or leave"
   ]
  },
  {
   "cell_type": "markdown",
   "id": "fifteen-formula",
   "metadata": {},
   "source": [
    "EDUYRS Years of full-time education completed\n",
    "Question:\n",
    "All rounds: About how many years of education have you completed, whether full-time or part-time? Please report these in full-time equivalents and include compulsory years of schooling.\n",
    "Values and categories:\n",
    "77\tRefusal\n",
    "88\tDon't know\n",
    "99\tNo answer\n"
   ]
  },
  {
   "cell_type": "markdown",
   "id": "human-worry",
   "metadata": {},
   "source": [
    "UEMP3M Ever unemployed and seeking work for a period more than three months\n",
    "Question:\n",
    "All rounds: Have you ever been unemployed and seeking work for a period of more than three months?\n",
    "Values and categories:\n",
    "1\tYes\n",
    "2\tNo\n",
    "7\tRefusal\n",
    "8\tDon't know\n",
    "9\tNo answer"
   ]
  },
  {
   "cell_type": "markdown",
   "id": "waiting-oriental",
   "metadata": {},
   "source": [
    "EMPLREL Employment relation\n",
    "Question:\n",
    "All rounds: In your main job are/were you...\n",
    "Values and categories:\n",
    "1\tEmployee\n",
    "2\tSelf-employed\n",
    "3\tWorking for own family business\n",
    "6\tNot applicable\n",
    "7\tRefusal\n",
    "8\tDon't know\n",
    "9\tNo answer"
   ]
  },
  {
   "cell_type": "markdown",
   "id": "impressive-radio",
   "metadata": {},
   "source": [
    "MBTRU Member of trade union or similar organisation\n",
    "Question:\n",
    "ESS1, ESS2, ESS3, ESS4, ESS5, ESS6, ESS7, ESS8: Are you or have you ever been a member of a trade union or similar organisation?\n",
    "ESS9: Are you or have you ever been a member of a trade union or similar organisation? IF YES, is that currently or previously?\n",
    "Values and categories:\n",
    "1\tYes, currently\n",
    "2\tYes, previously\n",
    "3\tNo\n",
    "7\tRefusal\n",
    "8\tDon't know\n",
    "9\tNo answer\n"
   ]
  },
  {
   "cell_type": "markdown",
   "id": "angry-logging",
   "metadata": {},
   "source": [
    "VTEURMMB Would vote for [country] to remain member of European Union or leave\n",
    "Question:\n",
    "ESS8, ESS9: Imagine there were a referendum in [country] tomorrow about membership of the European Union. Would you vote for [country] to remain a member of the European Union or to leave the European Union?\n",
    "Values and categories:\n",
    "1\tRemain member of the European Union\n",
    "2\tLeave the European Union\n",
    "33\tWould submit a blank ballot paper\n",
    "44\tWould spoil the ballot paper\n",
    "55\tWould not vote\n",
    "65\tNot eligible to vote\n",
    "77\tRefusal\n",
    "88\tDon't know\n",
    "99\tNo answer"
   ]
  },
  {
   "cell_type": "markdown",
   "id": "comprehensive-parallel",
   "metadata": {},
   "source": [
    "## Data Transformation"
   ]
  },
  {
   "cell_type": "code",
   "execution_count": 61,
   "id": "heavy-bulgaria",
   "metadata": {},
   "outputs": [
    {
     "data": {
      "text/html": [
       "<style>\n",
       ".dl-inline {width: auto; margin:0; padding: 0}\n",
       ".dl-inline>dt, .dl-inline>dd {float: none; width: auto; display: inline-block}\n",
       ".dl-inline>dt::after {content: \":\\0020\"; padding-right: .5ex}\n",
       ".dl-inline>dt:not(:first-of-type) {padding-left: .5ex}\n",
       "</style><dl class=dl-inline><dt>cntry</dt><dd>0</dd><dt>eduyrs</dt><dd>708</dd><dt>uemp3m</dt><dd>295</dd><dt>emplrel</dt><dd>4543</dd><dt>mbtru</dt><dd>331</dd><dt>vteurmmb</dt><dd>13648</dd><dt>yrbrn</dt><dd>222</dd><dt>agea</dt><dd>222</dd><dt>gndr</dt><dd>0</dd></dl>\n"
      ],
      "text/latex": [
       "\\begin{description*}\n",
       "\\item[cntry] 0\n",
       "\\item[eduyrs] 708\n",
       "\\item[uemp3m] 295\n",
       "\\item[emplrel] 4543\n",
       "\\item[mbtru] 331\n",
       "\\item[vteurmmb] 13648\n",
       "\\item[yrbrn] 222\n",
       "\\item[agea] 222\n",
       "\\item[gndr] 0\n",
       "\\end{description*}\n"
      ],
      "text/markdown": [
       "cntry\n",
       ":   0eduyrs\n",
       ":   708uemp3m\n",
       ":   295emplrel\n",
       ":   4543mbtru\n",
       ":   331vteurmmb\n",
       ":   13648yrbrn\n",
       ":   222agea\n",
       ":   222gndr\n",
       ":   0\n",
       "\n"
      ],
      "text/plain": [
       "   cntry   eduyrs   uemp3m  emplrel    mbtru vteurmmb    yrbrn     agea \n",
       "       0      708      295     4543      331    13648      222      222 \n",
       "    gndr \n",
       "       0 "
      ]
     },
     "metadata": {},
     "output_type": "display_data"
    }
   ],
   "source": [
    "# Checking for NA's in the dataset\n",
    "sapply(european_survey, function(x) sum(is.na(x)))"
   ]
  },
  {
   "cell_type": "code",
   "execution_count": 51,
   "id": "sacred-netscape",
   "metadata": {},
   "outputs": [],
   "source": [
    "# Target variable transformation\n",
    "european_survey$vteurmmb <- as.character(european_survey$vteurmmb)\n",
    "european_survey$vteurmmb[european_survey$vteurmmb == \"Remain member of the European Union\"] <- \"Remain\"\n",
    "european_survey$vteurmmb[european_survey$vteurmmb == \"Leave the European Union\"] <- \"Leave\"\n",
    "european_survey$vteurmmb[european_survey$vteurmmb == \"Would submit a blank ballot paper\"] <- NA\n",
    "european_survey$vteurmmb[european_survey$vteurmmb == \"Would spoil the ballot paper\"] <- NA\n",
    "european_survey$vteurmmb[european_survey$vteurmmb == \"Would not vote\"] <- NA\n",
    "european_survey$vteurmmb[european_survey$vteurmmb == \"Not eligible to vote\"] <- NA\n",
    "european_survey$vteurmmb <- as.factor(european_survey$vteurmmb)"
   ]
  },
  {
   "cell_type": "code",
   "execution_count": 52,
   "id": "arbitrary-drama",
   "metadata": {},
   "outputs": [
    {
     "data": {
      "text/html": [
       "<style>\n",
       ".dl-inline {width: auto; margin:0; padding: 0}\n",
       ".dl-inline>dt, .dl-inline>dd {float: none; width: auto; display: inline-block}\n",
       ".dl-inline>dt::after {content: \":\\0020\"; padding-right: .5ex}\n",
       ".dl-inline>dt:not(:first-of-type) {padding-left: .5ex}\n",
       "</style><dl class=dl-inline><dt>cntry</dt><dd>0</dd><dt>eduyrs</dt><dd>0</dd><dt>uemp3m</dt><dd>0</dd><dt>emplrel</dt><dd>0</dd><dt>mbtru</dt><dd>0</dd><dt>vteurmmb</dt><dd>0</dd></dl>\n"
      ],
      "text/latex": [
       "\\begin{description*}\n",
       "\\item[cntry] 0\n",
       "\\item[eduyrs] 0\n",
       "\\item[uemp3m] 0\n",
       "\\item[emplrel] 0\n",
       "\\item[mbtru] 0\n",
       "\\item[vteurmmb] 0\n",
       "\\end{description*}\n"
      ],
      "text/markdown": [
       "cntry\n",
       ":   0eduyrs\n",
       ":   0uemp3m\n",
       ":   0emplrel\n",
       ":   0mbtru\n",
       ":   0vteurmmb\n",
       ":   0\n",
       "\n"
      ],
      "text/plain": [
       "   cntry   eduyrs   uemp3m  emplrel    mbtru vteurmmb \n",
       "       0        0        0        0        0        0 "
      ]
     },
     "metadata": {},
     "output_type": "display_data"
    }
   ],
   "source": [
    "# Cleaning NA values\n",
    "df_european_survey <- european_survey[complete.cases(european_survey), ]\n",
    "sapply(df_european_survey, function(x) sum(is.na(x)))"
   ]
  },
  {
   "cell_type": "code",
   "execution_count": 53,
   "id": "prime-exploration",
   "metadata": {},
   "outputs": [
    {
     "data": {
      "text/plain": [
       "\n",
       "   Leave   Remain \n",
       "0.132989 0.867011 "
      ]
     },
     "metadata": {},
     "output_type": "display_data"
    }
   ],
   "source": [
    "prop.table(table(df_european_survey$vteurmmb))"
   ]
  },
  {
   "cell_type": "code",
   "execution_count": 54,
   "id": "automated-coating",
   "metadata": {},
   "outputs": [
    {
     "data": {
      "text/plain": [
       "\n",
       "      No      Yes \n",
       "0.701133 0.298867 "
      ]
     },
     "metadata": {},
     "output_type": "display_data"
    }
   ],
   "source": [
    "# Data transformation\n",
    "\n",
    "df_european_survey$uemp3m <- as.character(df_european_survey$uemp3m)\n",
    "df_european_survey$uemp3m <- as.factor(df_european_survey$uemp3m)\n",
    "prop.table(table(df_european_survey$uemp3m))"
   ]
  },
  {
   "cell_type": "code",
   "execution_count": 55,
   "id": "human-weekend",
   "metadata": {},
   "outputs": [
    {
     "data": {
      "text/plain": [
       "\n",
       "      No      Yes \n",
       "0.569077 0.430923 "
      ]
     },
     "metadata": {},
     "output_type": "display_data"
    }
   ],
   "source": [
    "df_european_survey$mbtru <- as.character(df_european_survey$mbtru)\n",
    "df_european_survey$mbtru[df_european_survey$mbtru == \"Yes, currently\"] <- \"Yes\"\n",
    "df_european_survey$mbtru[df_european_survey$mbtru == \"Yes, previously\"] <- \"Yes\"\n",
    "df_european_survey$mbtru <- as.factor(df_european_survey$mbtru)\n",
    "prop.table(table(df_european_survey$mbtru))"
   ]
  },
  {
   "cell_type": "code",
   "execution_count": 56,
   "id": "controlled-punch",
   "metadata": {},
   "outputs": [],
   "source": [
    "df_european_survey$eduyrs <- as.numeric(df_european_survey$eduyrs)"
   ]
  },
  {
   "cell_type": "code",
   "execution_count": 57,
   "id": "significant-description",
   "metadata": {},
   "outputs": [
    {
     "data": {
      "text/html": [
       "30010"
      ],
      "text/latex": [
       "30010"
      ],
      "text/markdown": [
       "30010"
      ],
      "text/plain": [
       "[1] 30010"
      ]
     },
     "metadata": {},
     "output_type": "display_data"
    }
   ],
   "source": [
    "nrow(df_european_survey)"
   ]
  },
  {
   "cell_type": "code",
   "execution_count": null,
   "id": "inside-translation",
   "metadata": {},
   "outputs": [],
   "source": []
  }
 ],
 "metadata": {
  "kernelspec": {
   "display_name": "R",
   "language": "R",
   "name": "ir"
  },
  "language_info": {
   "codemirror_mode": "r",
   "file_extension": ".r",
   "mimetype": "text/x-r-source",
   "name": "R",
   "pygments_lexer": "r",
   "version": "4.0.2"
  }
 },
 "nbformat": 4,
 "nbformat_minor": 5
}
